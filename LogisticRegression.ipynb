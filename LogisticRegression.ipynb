{
  "nbformat": 4,
  "nbformat_minor": 0,
  "metadata": {
    "colab": {
      "name": "LogisticRegression.ipynb",
      "provenance": [],
      "collapsed_sections": [],
      "authorship_tag": "ABX9TyM6BnMAT8dMYNNSXMRcoBSH",
      "include_colab_link": true
    },
    "kernelspec": {
      "name": "python3",
      "display_name": "Python 3"
    },
    "language_info": {
      "name": "python"
    }
  },
  "cells": [
    {
      "cell_type": "markdown",
      "metadata": {
        "id": "view-in-github",
        "colab_type": "text"
      },
      "source": [
        "<a href=\"https://colab.research.google.com/github/yebiny/Lecture_deeplearning_basic/blob/main/LogisticRegression.ipynb\" target=\"_parent\"><img src=\"https://colab.research.google.com/assets/colab-badge.svg\" alt=\"Open In Colab\"/></a>"
      ]
    },
    {
      "cell_type": "markdown",
      "metadata": {
        "id": "MhaiH8f2hSHN"
      },
      "source": [
        "# Logistic Regression\n",
        "---\n",
        "\n"
      ]
    },
    {
      "cell_type": "code",
      "metadata": {
        "id": "2VW4g5_Ogrng"
      },
      "source": [
        "import numpy as np\n",
        "import matplotlib.pyplot as plt\n",
        "from tensorflow.keras.models import Sequential\n",
        "from tensorflow.keras.layers import Dense\n",
        "from tensorflow.keras import optimizers"
      ],
      "execution_count": 4,
      "outputs": []
    },
    {
      "cell_type": "markdown",
      "metadata": {
        "id": "wJvI8FdoNwM6"
      },
      "source": [
        "## 1. Sigmoid funtion\n",
        "----\n",
        "\n",
        "</br>\n",
        "\n",
        "## <center>$H(x) = \\frac{1}{1+e^{(-x)}} = \\sigma(x)$</center>\n",
        "\n",
        "**<center> e(e=2.718281..):**  자연 상수"
      ]
    },
    {
      "cell_type": "markdown",
      "metadata": {
        "id": "yVrRMqlSxD2L"
      },
      "source": [
        "* 구현"
      ]
    },
    {
      "cell_type": "code",
      "metadata": {
        "id": "l6vzKZkrNX5O"
      },
      "source": [
        "def sigmoid(x):\n",
        "    return 1/(1+np.exp(-x))"
      ],
      "execution_count": 26,
      "outputs": []
    },
    {
      "cell_type": "markdown",
      "metadata": {
        "id": "I8Lpa78pmWZT"
      },
      "source": [
        "* 시각화"
      ]
    },
    {
      "cell_type": "code",
      "metadata": {
        "colab": {
          "base_uri": "https://localhost:8080/",
          "height": 283
        },
        "id": "ZE925IHilr5L",
        "outputId": "7946a628-58a3-453b-e4dd-8f8e029fc5f8"
      },
      "source": [
        "x = np.arange(-5,5,0.1)\n",
        "y = sigmoid(x)\n",
        "plt.plot([0,0],[0,1], linestyle='--')\n",
        "plt.plot(x, y)"
      ],
      "execution_count": 33,
      "outputs": [
        {
          "output_type": "execute_result",
          "data": {
            "text/plain": [
              "[<matplotlib.lines.Line2D at 0x7f0660c41a50>]"
            ]
          },
          "metadata": {},
          "execution_count": 33
        },
        {
          "output_type": "display_data",
          "data": {
            "image/png": "[encoded data removed]",
            "text/plain": [
              "<Figure size 432x288 with 1 Axes>"
            ]
          },
          "metadata": {
            "needs_background": "light"
          }
        }
      ]
    },
    {
      "cell_type": "markdown",
      "metadata": {
        "id": "Xspd1KqyT9ab"
      },
      "source": [
        "## 2. 개념정리\n",
        "---\n",
        "\n",
        "</br>\n",
        "\n",
        "### <center>$y = \\sigma (Wx+b)$</center>"
      ]
    },
    {
      "cell_type": "markdown",
      "metadata": {
        "id": "t1cAJIMOkJWK"
      },
      "source": [
        "* Regression 구현"
      ]
    },
    {
      "cell_type": "code",
      "metadata": {
        "id": "FjfIiYEFkIeU"
      },
      "source": [
        "def regression(x, w=1, b=0):\n",
        "  return np.dot(w,x)+b"
      ],
      "execution_count": 34,
      "outputs": []
    },
    {
      "cell_type": "markdown",
      "metadata": {
        "id": "uUdHXfZgkaAj"
      },
      "source": [
        "* Logistic regression 구현"
      ]
    },
    {
      "cell_type": "code",
      "metadata": {
        "id": "itvJt9yRkZib"
      },
      "source": [
        "def hypothesis(x, w=1, b=0):\n",
        "  y = regression(x,w,b)\n",
        "  y = sigmoid(y)\n",
        "  return y"
      ],
      "execution_count": 35,
      "outputs": []
    },
    {
      "cell_type": "markdown",
      "metadata": {
        "id": "31x3U7SB2ziD"
      },
      "source": [
        "* 데이터 정의\n",
        "\n",
        "|라운드점수|종합점수|결과\n",
        "|------|---|---|\n",
        "|-3|1|패배|\n",
        "|-2|1|패배|\n",
        "|-1|2|패배|\n",
        "|0|3|패배|\n",
        "|1|5|승리|\n",
        "|2|8|승리|\n",
        "|3|9|승리|\n"
      ]
    },
    {
      "cell_type": "code",
      "metadata": {
        "id": "IAi3_LvS1BYj"
      },
      "source": [
        "x = [-3,-2,-1,0,1,2,3]\n",
        "y = [0,0,0,0,1,1,1]"
      ],
      "execution_count": 47,
      "outputs": []
    },
    {
      "cell_type": "markdown",
      "metadata": {
        "id": "umk0_qavR02D"
      },
      "source": [
        "* 시각화"
      ]
    },
    {
      "cell_type": "code",
      "metadata": {
        "colab": {
          "base_uri": "https://localhost:8080/",
          "height": 265
        },
        "id": "0l7xoCQu34Xs",
        "outputId": "47b84dfb-49e2-44bb-fff0-12868569c49c"
      },
      "source": [
        "y_pred = hypothesis(x)\n",
        "plt.plot(x, y , marker='o', linestyle='', color='k')\n",
        "plt.plot(x, y_pred, color='g')\n",
        "plt.show()"
      ],
      "execution_count": 76,
      "outputs": [
        {
          "output_type": "display_data",
          "data": {
            "image/png": "[encoded data removed]",
            "text/plain": [
              "<Figure size 432x288 with 1 Axes>"
            ]
          },
          "metadata": {
            "needs_background": "light"
          }
        }
      ]
    },
    {
      "cell_type": "markdown",
      "metadata": {
        "id": "KLLjZVusxLKz"
      },
      "source": [
        "* W 값에 따른 함수의 변화"
      ]
    },
    {
      "cell_type": "code",
      "metadata": {
        "colab": {
          "base_uri": "https://localhost:8080/",
          "height": 265
        },
        "id": "JKLMraWYOUuV",
        "outputId": "8678df1f-80ef-44b8-a845-35d3cf33d5a3"
      },
      "source": [
        "W_list = [0.3, 1, 3]\n",
        "color_list = ['r','g','b']\n",
        "\n",
        "for W , color in zip(W_list, color_list):\n",
        "  y_pred = hypothesis(x, w=W)\n",
        "  plt.plot(x, y_pred, 'r', linestyle='--', color=color)\n",
        "plt.legend(W_list)\n",
        "\n",
        "plt.plot(x, y , marker='o', linestyle='', color='k')\n",
        "plt.show()"
      ],
      "execution_count": 77,
      "outputs": [
        {
          "output_type": "display_data",
          "data": {
            "image/png": "[encoded data removed]",
            "text/plain": [
              "<Figure size 432x288 with 1 Axes>"
            ]
          },
          "metadata": {
            "needs_background": "light"
          }
        }
      ]
    },
    {
      "cell_type": "markdown",
      "metadata": {
        "id": "EkTSQTbTxNwj"
      },
      "source": [
        "* b값에 따른 함수의 변화"
      ]
    },
    {
      "cell_type": "code",
      "metadata": {
        "id": "nE5H5bXbO-DK",
        "colab": {
          "base_uri": "https://localhost:8080/",
          "height": 265
        },
        "outputId": "1e056c8d-2221-4f63-aad7-31e02062dc6b"
      },
      "source": [
        "W=3\n",
        "b_list = [-1, 0, 1]\n",
        "color_list = ['r','g','b']\n",
        "\n",
        "for b , color in zip(b_list, color_list):\n",
        "  y_pred = hypothesis(x, w=W, b=b)\n",
        "  plt.plot(x, y_pred, 'r', linestyle='--', color=color)\n",
        "plt.legend(b_list)\n",
        "\n",
        "plt.plot(x, y , marker='o', linestyle='', color='k')\n",
        "plt.show()"
      ],
      "execution_count": 81,
      "outputs": [
        {
          "output_type": "display_data",
          "data": {
            "image/png": "[encoded data removed]",
            "text/plain": [
              "<Figure size 432x288 with 1 Axes>"
            ]
          },
          "metadata": {
            "needs_background": "light"
          }
        }
      ]
    },
    {
      "cell_type": "markdown",
      "metadata": {
        "id": "OhHRBWI4p2ZV"
      },
      "source": [
        "## 3. Cross Entropy\n",
        "---\n",
        "\n",
        "</br>\n",
        "\n",
        "## <center>$J(W) = -\\frac{1}{n}\\sum_{i=1}^{n}[y^{(i)}log(\\hat{y}^{(i)})+(1-y^{(i)})log(1-\\hat{y}^{(i)})]$</center>\n",
        "\n",
        "</br>\n",
        "\n",
        "<center> $y = 1 \\rightarrow cost(y, \\hat{y}) = -log(\\hat{y})$</center>\n",
        "<center> $y = 0 \\rightarrow cost(y, \\hat{y}) = -log(1-\\hat{y})$</center>\n"
      ]
    },
    {
      "cell_type": "markdown",
      "metadata": {
        "id": "NbYJ77nVptoc"
      },
      "source": [
        "* 구현"
      ]
    },
    {
      "cell_type": "code",
      "metadata": {
        "id": "5z7FDrN_pLfa"
      },
      "source": [
        "def J(y_pred, y=1):\n",
        "  if y==1: return -(np.log10(y_pred))\n",
        "  elif y==0: return -(np.log10(1-y_pred))\n",
        "  else: return 0"
      ],
      "execution_count": 116,
      "outputs": []
    },
    {
      "cell_type": "markdown",
      "metadata": {
        "id": "s-eyWaHypvOE"
      },
      "source": [
        "* 시각화"
      ]
    },
    {
      "cell_type": "code",
      "metadata": {
        "colab": {
          "base_uri": "https://localhost:8080/",
          "height": 298
        },
        "id": "BUYYMkh4rRn7",
        "outputId": "f0e64cdc-72d0-4d45-b7f9-0164eb05de77"
      },
      "source": [
        "y_pred_range = np.arange(0.1,1,0.1)\n",
        "for y_pred in y_pred_range:\n",
        "  j = J(y_pred, y=1)\n",
        "  plt.plot(y_pred, j, marker='o', color='b')\n",
        "  \n",
        "  j = J(y_pred, y=0)\n",
        "  plt.plot(y_pred, j, marker='o', color='r')\n",
        "\n",
        "plt.legend([\"y=1\", \"y=0\"])\n",
        "plt.xlabel(\"y_pred\")\n",
        "plt.ylabel(\"Error\")"
      ],
      "execution_count": 121,
      "outputs": [
        {
          "output_type": "execute_result",
          "data": {
            "text/plain": [
              "Text(0, 0.5, 'Error')"
            ]
          },
          "metadata": {},
          "execution_count": 121
        },
        {
          "output_type": "display_data",
          "data": {
            "image/png": "[encoded data removed]",
            "text/plain": [
              "<Figure size 432x288 with 1 Axes>"
            ]
          },
          "metadata": {
            "needs_background": "light"
          }
        }
      ]
    },
    {
      "cell_type": "markdown",
      "metadata": {
        "id": "dcvlzGY7w7_N"
      },
      "source": [
        "\n",
        "## 4. 실습\n",
        "---"
      ]
    },
    {
      "cell_type": "markdown",
      "metadata": {
        "id": "lERyWr69x0hT"
      },
      "source": [
        "### **데이터**\n",
        "|공부시간|집중도|수면시간|종합성적|합격여부|\n",
        "|------|---|---|---|---|\n",
        "|0|1|9|0|불합격|\n",
        "|1|1|8.5|11|불합격|\n",
        "|2|2|8|23|불합격|\n",
        "|3|4|8|30|불합격|\n",
        "|4|3|7|44|불합격|\n",
        "|5|5|7.5|55|합격|\n",
        "|6|6|7|61|합격|\n",
        "|7|6|6|73|합격|\n",
        "|8|7|7|84|합격|\n",
        "|9|6|6.5|98|합격|"
      ]
    },
    {
      "cell_type": "markdown",
      "metadata": {
        "id": "W05K5U6jr4hF"
      },
      "source": [
        "* 데이터 정의"
      ]
    },
    {
      "cell_type": "code",
      "metadata": {
        "id": "O8Azp_7AhYc3"
      },
      "source": [
        "x = [[0,1,9],\n",
        "      [1,1,8.5],\n",
        "      [2,2,8],\n",
        "      [3,4,8],\n",
        "      [4,3,7],\n",
        "      [5,5,7.5],\n",
        "      [6,6,7],\n",
        "      [7,6,6],\n",
        "      [8,7,7],\n",
        "      [9,6,6.5 ]\n",
        "     ]\n",
        "y = [0,0,0,0,0,1,1,1,1,1]"
      ],
      "execution_count": 104,
      "outputs": []
    },
    {
      "cell_type": "markdown",
      "metadata": {
        "id": "vKgnvyq0NIio"
      },
      "source": [
        "* 시각화 "
      ]
    },
    {
      "cell_type": "code",
      "metadata": {
        "colab": {
          "base_uri": "https://localhost:8080/",
          "height": 265
        },
        "id": "XE61QbZViBcv",
        "outputId": "2606587e-3b5f-4563-c84a-73617b67128a"
      },
      "source": [
        "plt.plot(y, marker='o', linestyle='')\n",
        "plt.show()"
      ],
      "execution_count": 105,
      "outputs": [
        {
          "output_type": "display_data",
          "data": {
            "image/png": "[encoded data removed]",
            "text/plain": [
              "<Figure size 432x288 with 1 Axes>"
            ]
          },
          "metadata": {
            "needs_background": "light"
          }
        }
      ]
    },
    {
      "cell_type": "markdown",
      "metadata": {
        "id": "sjzd0-TyxwDM"
      },
      "source": [
        "###  **모델 생성**"
      ]
    },
    {
      "cell_type": "markdown",
      "metadata": {
        "id": "w341U_IMr_Ay"
      },
      "source": [
        "* 케라스를 이용한 모델 구현"
      ]
    },
    {
      "cell_type": "code",
      "metadata": {
        "id": "_U2vEe_sN-Hd",
        "colab": {
          "base_uri": "https://localhost:8080/"
        },
        "outputId": "4c54c9b3-9b65-47f1-8763-7510d3040122"
      },
      "source": [
        "model = Sequential()\n",
        "model.add(Dense(1, input_dim=3, activation='sigmoid'))\n",
        "model.summary()"
      ],
      "execution_count": 106,
      "outputs": [
        {
          "output_type": "stream",
          "name": "stdout",
          "text": [
            "Model: \"sequential_2\"\n",
            "_________________________________________________________________\n",
            "Layer (type)                 Output Shape              Param #   \n",
            "=================================================================\n",
            "dense_2 (Dense)              (None, 1)                 4         \n",
            "=================================================================\n",
            "Total params: 4\n",
            "Trainable params: 4\n",
            "Non-trainable params: 0\n",
            "_________________________________________________________________\n"
          ]
        }
      ]
    },
    {
      "cell_type": "markdown",
      "metadata": {
        "id": "OBKpPVHFyTsb"
      },
      "source": [
        "* 학습 파라미터 확인"
      ]
    },
    {
      "cell_type": "code",
      "metadata": {
        "colab": {
          "base_uri": "https://localhost:8080/"
        },
        "id": "9hHOMXhkyPXa",
        "outputId": "2a94ee98-9c8f-4d35-b1f6-e34e92a973b5"
      },
      "source": [
        "print(model.get_weights())\n",
        "W = model.get_weights()[0]\n",
        "b = model.get_weights()[1]\n",
        "print(\"W:\",W, \"b:\", b)"
      ],
      "execution_count": 107,
      "outputs": [
        {
          "output_type": "stream",
          "name": "stdout",
          "text": [
            "[array([[-0.04347062],\n",
            "       [ 0.6001811 ],\n",
            "       [-0.9818939 ]], dtype=float32), array([0.], dtype=float32)]\n",
            "W: [[-0.04347062]\n",
            " [ 0.6001811 ]\n",
            " [-0.9818939 ]] b: [0.]\n"
          ]
        }
      ]
    },
    {
      "cell_type": "markdown",
      "metadata": {
        "id": "wfC7jd1tsKgr"
      },
      "source": [
        "* 시각화"
      ]
    },
    {
      "cell_type": "code",
      "metadata": {
        "colab": {
          "base_uri": "https://localhost:8080/",
          "height": 265
        },
        "id": "vKTNcPF3zaPk",
        "outputId": "f9809136-84ec-4041-b26a-6a9ffd6cc7b4"
      },
      "source": [
        "plt.plot(y, marker='o', linestyle='')\n",
        "plt.plot(model.predict(x), linestyle='--')\n",
        "plt.show()"
      ],
      "execution_count": 108,
      "outputs": [
        {
          "output_type": "display_data",
          "data": {
            "image/png": "[encoded data removed]",
            "text/plain": [
              "<Figure size 432x288 with 1 Axes>"
            ]
          },
          "metadata": {
            "needs_background": "light"
          }
        }
      ]
    },
    {
      "cell_type": "markdown",
      "metadata": {
        "id": "GpvKk6lsymbd"
      },
      "source": [
        "### **모델 학습**"
      ]
    },
    {
      "cell_type": "markdown",
      "metadata": {
        "id": "VaLNy_3atLZ8"
      },
      "source": [
        "* 모델 컴파일"
      ]
    },
    {
      "cell_type": "code",
      "metadata": {
        "id": "j6zS1DtnyTOT"
      },
      "source": [
        "model.compile(optimizer = optimizers.SGD(learning_rate=0.01),\n",
        "              loss = 'binary_crossentropy',\n",
        "              metrics=['acc']\n",
        "              )"
      ],
      "execution_count": 109,
      "outputs": []
    },
    {
      "cell_type": "markdown",
      "metadata": {
        "id": "ZxywaIertNp0"
      },
      "source": [
        "* 학습 진행"
      ]
    },
    {
      "cell_type": "code",
      "metadata": {
        "id": "JSW0c3Lzypip"
      },
      "source": [
        "model.fit(x, y, epochs=100)"
      ],
      "execution_count": null,
      "outputs": []
    },
    {
      "cell_type": "markdown",
      "metadata": {
        "id": "e0215hW8tTj0"
      },
      "source": [
        "### **결과**"
      ]
    },
    {
      "cell_type": "markdown",
      "metadata": {
        "id": "W168xYmMtVij"
      },
      "source": [
        "* 학습 파라미터 확인"
      ]
    },
    {
      "cell_type": "code",
      "metadata": {
        "colab": {
          "base_uri": "https://localhost:8080/"
        },
        "id": "Aj42y5watYT7",
        "outputId": "645dc24f-06c9-4510-baee-c52273717fd5"
      },
      "source": [
        "print(model.get_weights())\n",
        "W = model.get_weights()[0]\n",
        "b = model.get_weights()[1]\n",
        "print(\"W:\",W, \"b:\", b)"
      ],
      "execution_count": 114,
      "outputs": [
        {
          "output_type": "stream",
          "name": "stdout",
          "text": [
            "[array([[ 0.3356829 ],\n",
            "       [ 0.9327783 ],\n",
            "       [-0.74301696]], dtype=float32), array([0.03728792], dtype=float32)]\n",
            "W: [[ 0.3356829 ]\n",
            " [ 0.9327783 ]\n",
            " [-0.74301696]] b: [0.03728792]\n"
          ]
        }
      ]
    },
    {
      "cell_type": "markdown",
      "metadata": {
        "id": "WZP0UAgGtbXD"
      },
      "source": [
        "* 시각화"
      ]
    },
    {
      "cell_type": "code",
      "metadata": {
        "colab": {
          "base_uri": "https://localhost:8080/",
          "height": 265
        },
        "id": "pXDWEWIDtbXD",
        "outputId": "0a3c7e9e-d268-4080-a3d9-e07a35e82c21"
      },
      "source": [
        "plt.plot(y, marker='o', linestyle='')\n",
        "plt.plot(model.predict(x), linestyle='--')\n",
        "plt.show()"
      ],
      "execution_count": 115,
      "outputs": [
        {
          "output_type": "display_data",
          "data": {
            "image/png": "[encoded data removed]",
            "text/plain": [
              "<Figure size 432x288 with 1 Axes>"
            ]
          },
          "metadata": {
            "needs_background": "light"
          }
        }
      ]
    },
    {
      "cell_type": "code",
      "metadata": {
        "id": "X-yp4J71y37B"
      },
      "source": [
        ""
      ],
      "execution_count": null,
      "outputs": []
    }
  ]
}