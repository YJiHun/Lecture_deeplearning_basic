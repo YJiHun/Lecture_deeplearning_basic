{
  "nbformat": 4,
  "nbformat_minor": 0,
  "metadata": {
    "colab": {
      "name": "1_LinearRegression.ipynb",
      "provenance": [],
      "collapsed_sections": [],
      "toc_visible": true,
      "authorship_tag": "ABX9TyNdXmaMrWLG0/24PfYxcc/n",
      "include_colab_link": true
    },
    "kernelspec": {
      "name": "python3",
      "display_name": "Python 3"
    },
    "language_info": {
      "name": "python"
    }
  },
  "cells": [
    {
      "cell_type": "markdown",
      "metadata": {
        "id": "view-in-github",
        "colab_type": "text"
      },
      "source": [
        "<a href=\"https://colab.research.google.com/github/yebiny/Lecture_deeplearning_basic/blob/main/1_LinearRegression.ipynb\" target=\"_parent\"><img src=\"https://colab.research.google.com/assets/colab-badge.svg\" alt=\"Open In Colab\"/></a>"
      ]
    },
    {
      "cell_type": "markdown",
      "metadata": {
        "id": "ge-fIn_z0ya8"
      },
      "source": [
        "# 선형 회귀 (Linear Regression)\n",
        ">**목차**\n",
        "1. 개념정리\n",
        "2. 손실함수: 평균제곱오차 (Mean Squared Error)\n",
        "3. 최적화: 경사하강법 (Gradient Descent) \n",
        "4. 실습1: 단순선형회귀분석(Simple Linear Regression Analysis)\n",
        "5. 실습2: 다중선형회귀분석(Multiple Linear Regression Analysis)\n"
      ]
    },
    {
      "cell_type": "code",
      "metadata": {
        "id": "Okp9mQZPQDEb"
      },
      "source": [
        "import numpy as np\n",
        "import matplotlib.pyplot as plt\n",
        "import tensorflow as tf\n",
        "from tensorflow.keras.models import Sequential\n",
        "from tensorflow.keras.layers import Dense\n",
        "from tensorflow.keras import optimizers"
      ],
      "execution_count": null,
      "outputs": []
    },
    {
      "cell_type": "markdown",
      "metadata": {
        "id": "eqNDX4kBSGWq"
      },
      "source": [
        "## 1. 개념정리\n",
        "---\n",
        "\n",
        "</br>\n",
        "\n",
        "###<center> < 가설 > </center>\n",
        "###  <center>$f(x_i)=wx_i+b$</center>\n",
        "\n",
        "</br>\n",
        "\n",
        "### <center> < 목적 > </center>\n",
        "### <center>$(w^{*}, b^{*})=arg \\; min \\sum_{i=1}^m(y_i-\\hat{y}_i)^2$</center>\n",
        "### <center>$=arg \\; min \\sum_{i=1}^m(y_i-f(x_i) )^2$</center>\n",
        "### <center>$=arg \\; min \\sum_{i=1}^m(y_i-wx_i-b)^2$</center>"
      ]
    },
    {
      "cell_type": "markdown",
      "metadata": {
        "id": "GiEFDvYc3zY-"
      },
      "source": [
        "### **구현**\n"
      ]
    },
    {
      "cell_type": "code",
      "metadata": {
        "id": "sJQVWC4K309D"
      },
      "source": [
        ""
      ],
      "execution_count": null,
      "outputs": []
    },
    {
      "cell_type": "markdown",
      "metadata": {
        "id": "31x3U7SB2ziD"
      },
      "source": [
        "### **예제**\n",
        "\n",
        "|공부시간|종합점수|\n",
        "|------|---|\n",
        "|1|1.1|\n",
        "|2|1.2|\n",
        "|3|2.2|\n",
        "|4|3.1|\n",
        "|5|3.7|"
      ]
    },
    {
      "cell_type": "markdown",
      "metadata": {
        "id": "F1Ir1VHqASpR"
      },
      "source": [
        "* 데이터 정의"
      ]
    },
    {
      "cell_type": "code",
      "metadata": {
        "id": "IAi3_LvS1BYj"
      },
      "source": [
        ""
      ],
      "execution_count": null,
      "outputs": []
    },
    {
      "cell_type": "markdown",
      "metadata": {
        "id": "Z_Y4XYK7UQbg"
      },
      "source": [
        "* 예측"
      ]
    },
    {
      "cell_type": "code",
      "metadata": {
        "id": "k5cqHKEbUUoG"
      },
      "source": [
        ""
      ],
      "execution_count": null,
      "outputs": []
    },
    {
      "cell_type": "markdown",
      "metadata": {
        "id": "yXxIMAjnAT8l"
      },
      "source": [
        "* 시각화"
      ]
    },
    {
      "cell_type": "code",
      "metadata": {
        "colab": {
          "base_uri": "https://localhost:8080/",
          "height": 265
        },
        "id": "0l7xoCQu34Xs",
        "outputId": "ae8d91ff-f35d-4998-ecd9-125357ef8a06"
      },
      "source": [
        ""
      ],
      "execution_count": null,
      "outputs": [
        {
          "output_type": "display_data",
          "data": {
            "image/png": "[encoded data removed]",
            "text/plain": [
              "<Figure size 432x288 with 1 Axes>"
            ]
          },
          "metadata": {
            "needs_background": "light"
          }
        }
      ]
    },
    {
      "cell_type": "markdown",
      "metadata": {
        "id": "erPNtIsT00ns"
      },
      "source": [
        "## 2. 손실함수: 평균제곱오차 (Mean Squred Error)\n",
        "---\n",
        "\n",
        "</br>\n",
        "\n",
        "### <center>$ MSE = \\sum_{i=1}^m(y_i-\\hat{y}_i)^2$</center>\n",
        "\n",
        "### <center>$=\\sum_{i=1}^m(y_i-wx_i-b)^2$"
      ]
    },
    {
      "cell_type": "markdown",
      "metadata": {
        "id": "sr4Ipnzp32yj"
      },
      "source": [
        "### **구현**"
      ]
    },
    {
      "cell_type": "code",
      "metadata": {
        "id": "UNjam_3p78U8"
      },
      "source": [
        ""
      ],
      "execution_count": null,
      "outputs": []
    },
    {
      "cell_type": "markdown",
      "metadata": {
        "id": "v6VSVcwR4KoL"
      },
      "source": [
        "* 계산"
      ]
    },
    {
      "cell_type": "code",
      "metadata": {
        "id": "JMbisZFe4MbT"
      },
      "source": [
        ""
      ],
      "execution_count": null,
      "outputs": []
    },
    {
      "cell_type": "markdown",
      "metadata": {
        "id": "TfHqzAZgA6Lm"
      },
      "source": [
        "### **Error 시각화**"
      ]
    },
    {
      "cell_type": "markdown",
      "metadata": {
        "id": "MkfmKu2M9tDT"
      },
      "source": [
        "*  W 값에 따른 Error 값 변화"
      ]
    },
    {
      "cell_type": "code",
      "metadata": {
        "id": "0Vt71w435LKz"
      },
      "source": [
        ""
      ],
      "execution_count": null,
      "outputs": []
    },
    {
      "cell_type": "markdown",
      "metadata": {
        "id": "6hQg2-P342I7"
      },
      "source": [
        "## 3. 최적화: 경사하강법 ( Gradient Desent )\n",
        "---\n",
        "</br>\n",
        "\n",
        "## <center>$w^* =  w-\\alpha\\frac{\\theta }{\\theta w}Cost(w) $</center>\n",
        "\n",
        "\n",
        "<center> 기울기가 음수일 때: $\\frac{\\theta }{\\theta w}Cost(w) < 0 \\rightarrow w* = w+\\alpha*(기울기)$</center>\n",
        "<center>기울기가 음수이면 $w$는 지금보다 큰 값으로 업데이트</center>\n",
        "\n",
        "</br>\n",
        "\n",
        "<center> 기울기가 양수일 때: $\\frac{\\theta }{\\theta w}Cost(w) > 0 \\rightarrow w* = w-\\alpha*(기울기)$</center>\n",
        "<center>기울기가 양수이면 $w$는 지금보다 작은 값으로 업데이트</center>\n"
      ]
    },
    {
      "cell_type": "markdown",
      "metadata": {
        "id": "QwPBoC5ARgxz"
      },
      "source": [
        "### **구현**"
      ]
    },
    {
      "cell_type": "code",
      "metadata": {
        "id": "cD7RIUsR962D"
      },
      "source": [
        ""
      ],
      "execution_count": null,
      "outputs": []
    },
    {
      "cell_type": "markdown",
      "metadata": {
        "id": "U8X8G3JQRmVD"
      },
      "source": [
        "### **학습**"
      ]
    },
    {
      "cell_type": "code",
      "metadata": {
        "id": "E3j81ZxfBPiz"
      },
      "source": [
        ""
      ],
      "execution_count": null,
      "outputs": []
    },
    {
      "cell_type": "markdown",
      "metadata": {
        "id": "pF7yqCsrcqI0"
      },
      "source": [
        "### **파라미터**: $\\alpha$ 값에 따른 W 변화"
      ]
    },
    {
      "cell_type": "code",
      "metadata": {
        "id": "fdn15PclcqI3"
      },
      "source": [
        ""
      ],
      "execution_count": null,
      "outputs": []
    },
    {
      "cell_type": "markdown",
      "metadata": {
        "id": "jfYkZYmwO5Nl"
      },
      "source": [
        "## 4. 실습1: 단순 선형 회귀 분석(Simple Linear Regression Analysis)\n",
        "---\n",
        "\n",
        "<br>\n",
        "\n",
        "###  <center>$f(x_i)=wx_i+b$</center>\n",
        "\n"
      ]
    },
    {
      "cell_type": "markdown",
      "metadata": {
        "id": "kbuD7GBOPjhO"
      },
      "source": [
        "### **데이터**\n",
        "\n",
        "|공부시간|종합점수|\n",
        "|------|---|\n",
        "|0|0|\n",
        "|1|11|\n",
        "|2|23|\n",
        "|3|30|\n",
        "|4|44|\n",
        "|5|55|\n",
        "|6|61|\n",
        "|7|73|\n",
        "|8|84|\n",
        "|9|98|\n",
        "\n"
      ]
    },
    {
      "cell_type": "markdown",
      "metadata": {
        "id": "ojv-hk3ad4CG"
      },
      "source": [
        "* 데이터 정의"
      ]
    },
    {
      "cell_type": "code",
      "metadata": {
        "id": "daPlUy3MK75a"
      },
      "source": [
        ""
      ],
      "execution_count": null,
      "outputs": []
    },
    {
      "cell_type": "markdown",
      "metadata": {
        "id": "pUfaI0KpdY4d"
      },
      "source": [
        "* 시각화"
      ]
    },
    {
      "cell_type": "code",
      "metadata": {
        "id": "ZbzZ-1ylLLSR"
      },
      "source": [
        ""
      ],
      "execution_count": null,
      "outputs": []
    },
    {
      "cell_type": "markdown",
      "metadata": {
        "id": "thbFTkkuRec4"
      },
      "source": [
        "### **모델 생성**"
      ]
    },
    {
      "cell_type": "markdown",
      "metadata": {
        "id": "T3hvm-LkeIfU"
      },
      "source": [
        "* 케라스를 이용한 모델 구현"
      ]
    },
    {
      "cell_type": "code",
      "metadata": {
        "colab": {
          "base_uri": "https://localhost:8080/"
        },
        "id": "aUYRDZ6kLSqP",
        "outputId": "e6e148e6-279b-4c49-eb04-d0f7d88220ac"
      },
      "source": [
        ""
      ],
      "execution_count": null,
      "outputs": [
        {
          "output_type": "stream",
          "name": "stdout",
          "text": [
            "Model: \"sequential_2\"\n",
            "_________________________________________________________________\n",
            "Layer (type)                 Output Shape              Param #   \n",
            "=================================================================\n",
            "dense_2 (Dense)              (None, 1)                 2         \n",
            "=================================================================\n",
            "Total params: 2\n",
            "Trainable params: 2\n",
            "Non-trainable params: 0\n",
            "_________________________________________________________________\n"
          ]
        }
      ]
    },
    {
      "cell_type": "markdown",
      "metadata": {
        "id": "oWm9NLObZDMu"
      },
      "source": [
        "* 학습파라미터 확인"
      ]
    },
    {
      "cell_type": "code",
      "metadata": {
        "id": "VSQebyh5RmlB"
      },
      "source": [
        ""
      ],
      "execution_count": null,
      "outputs": []
    },
    {
      "cell_type": "markdown",
      "metadata": {
        "id": "7WE7NPAeZK2Y"
      },
      "source": [
        "* 학습파라미터 시각화"
      ]
    },
    {
      "cell_type": "code",
      "metadata": {
        "id": "8Tl9l8mWRwOQ"
      },
      "source": [
        ""
      ],
      "execution_count": null,
      "outputs": []
    },
    {
      "cell_type": "markdown",
      "metadata": {
        "id": "eVibQb3UT9b1"
      },
      "source": [
        "### **학습**"
      ]
    },
    {
      "cell_type": "markdown",
      "metadata": {
        "id": "_xXCO5TZSqsa"
      },
      "source": [
        "* 모델 컴파일"
      ]
    },
    {
      "cell_type": "code",
      "metadata": {
        "id": "iBHMg3adRhya"
      },
      "source": [
        ""
      ],
      "execution_count": null,
      "outputs": []
    },
    {
      "cell_type": "markdown",
      "metadata": {
        "id": "IVizBMD5a4Tt"
      },
      "source": [
        "* 학습 진행"
      ]
    },
    {
      "cell_type": "code",
      "metadata": {
        "id": "gsFdfLY5Lfn3"
      },
      "source": [
        ""
      ],
      "execution_count": null,
      "outputs": []
    },
    {
      "cell_type": "markdown",
      "metadata": {
        "id": "SRXVtPpQV_Pn"
      },
      "source": [
        "### **결과**"
      ]
    },
    {
      "cell_type": "markdown",
      "metadata": {
        "id": "-kUSqu2WaJu9"
      },
      "source": [
        "* 학습 파라미터 확인"
      ]
    },
    {
      "cell_type": "code",
      "metadata": {
        "id": "lrzjoWBUaLpD"
      },
      "source": [
        ""
      ],
      "execution_count": null,
      "outputs": []
    },
    {
      "cell_type": "markdown",
      "metadata": {
        "id": "D78RJwroaMJx"
      },
      "source": [
        "* 시각화"
      ]
    },
    {
      "cell_type": "code",
      "metadata": {
        "id": "WYOlATsiLjaT"
      },
      "source": [
        ""
      ],
      "execution_count": null,
      "outputs": []
    },
    {
      "cell_type": "markdown",
      "metadata": {
        "id": "9dXLnIXocgvC"
      },
      "source": [
        "* 결과예측"
      ]
    },
    {
      "cell_type": "code",
      "metadata": {
        "id": "DNAinOdLOnGD"
      },
      "source": [
        ""
      ],
      "execution_count": null,
      "outputs": []
    },
    {
      "cell_type": "markdown",
      "metadata": {
        "id": "nt00IWxWO7U9"
      },
      "source": [
        "## 5. 실습2: 다중선형회귀 (Multiple Linear Regression Analysis)\n",
        "---\n",
        "<br>\n",
        "\n",
        "###  <center>$f(\\vec{x_i})=\\vec{w}\\vec{x}_i+b$</center>"
      ]
    },
    {
      "cell_type": "markdown",
      "metadata": {
        "id": "iLkrqq2dWo_i"
      },
      "source": [
        "### **데이터**\n",
        "|공부시간|집중도|수면시간|종합성적|\n",
        "|------|---|---|---|\n",
        "|0|1|9|0|\n",
        "|1|1|8.5|11|\n",
        "|2|2|8|23|\n",
        "|3|4|8|30|\n",
        "|4|3|7|44|\n",
        "|5|5|7.5|55|\n",
        "|6|6|7|61|\n",
        "|7|6|6|73|\n",
        "|8|7|7|84|\n",
        "|9|6|6.5|98|\n",
        "\n"
      ]
    },
    {
      "cell_type": "markdown",
      "metadata": {
        "id": "LQezSwWEfI0O"
      },
      "source": [
        "* 데이터 정의"
      ]
    },
    {
      "cell_type": "code",
      "metadata": {
        "id": "gaRXJzQ6O8G6"
      },
      "source": [
        ""
      ],
      "execution_count": null,
      "outputs": []
    },
    {
      "cell_type": "markdown",
      "metadata": {
        "id": "TZ45Zf3zZfS3"
      },
      "source": [
        "### **모델 생성**"
      ]
    },
    {
      "cell_type": "markdown",
      "metadata": {
        "id": "CZIXuAgbfMvL"
      },
      "source": [
        "* 케라스를 이용한 모델 생성"
      ]
    },
    {
      "cell_type": "code",
      "metadata": {
        "id": "0NLYa1GoZfS8"
      },
      "source": [
        ""
      ],
      "execution_count": null,
      "outputs": []
    },
    {
      "cell_type": "markdown",
      "metadata": {
        "id": "wtqZLW2cZfS9"
      },
      "source": [
        "* 학습 파라미터 확인"
      ]
    },
    {
      "cell_type": "code",
      "metadata": {
        "id": "q4uHq2pjZfS9"
      },
      "source": [
        ""
      ],
      "execution_count": null,
      "outputs": []
    },
    {
      "cell_type": "markdown",
      "metadata": {
        "id": "ewHWcIt7ZfS-"
      },
      "source": [
        "### **학습**"
      ]
    },
    {
      "cell_type": "markdown",
      "metadata": {
        "id": "ahSAMANCfc-Z"
      },
      "source": [
        "* 모델 컴파일"
      ]
    },
    {
      "cell_type": "code",
      "metadata": {
        "id": "EZqkM15lZfS_"
      },
      "source": [
        ""
      ],
      "execution_count": null,
      "outputs": []
    },
    {
      "cell_type": "markdown",
      "metadata": {
        "id": "fVCQvRZyfc-t"
      },
      "source": [
        "* 학습 진행"
      ]
    },
    {
      "cell_type": "code",
      "metadata": {
        "id": "c70KTBf1ZfTA"
      },
      "source": [
        ""
      ],
      "execution_count": null,
      "outputs": []
    },
    {
      "cell_type": "markdown",
      "metadata": {
        "id": "mAc14-qWfDDV"
      },
      "source": [
        "### **결과**"
      ]
    },
    {
      "cell_type": "markdown",
      "metadata": {
        "id": "ZmCT32fefDDW"
      },
      "source": [
        "* 학습 파라미터 확인"
      ]
    },
    {
      "cell_type": "code",
      "metadata": {
        "id": "-b5GFbL8fDDW"
      },
      "source": [
        ""
      ],
      "execution_count": null,
      "outputs": []
    },
    {
      "cell_type": "markdown",
      "metadata": {
        "id": "LFSBLKgyfDDX"
      },
      "source": [
        "* 결과 예측"
      ]
    },
    {
      "cell_type": "code",
      "metadata": {
        "id": "D0yOWDosfDDX"
      },
      "source": [
        ""
      ],
      "execution_count": null,
      "outputs": []
    }
  ]
}