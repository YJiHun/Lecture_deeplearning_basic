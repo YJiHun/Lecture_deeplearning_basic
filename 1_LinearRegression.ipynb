{
  "nbformat": 4,
  "nbformat_minor": 0,
  "metadata": {
    "colab": {
      "name": "1_LinearRegression.ipynb",
      "provenance": [],
      "collapsed_sections": [],
      "include_colab_link": true
    },
    "kernelspec": {
      "name": "python3",
      "display_name": "Python 3"
    },
    "language_info": {
      "name": "python"
    }
  },
  "cells": [
    {
      "cell_type": "markdown",
      "metadata": {
        "id": "view-in-github",
        "colab_type": "text"
      },
      "source": [
        "<a href=\"https://colab.research.google.com/github/YJiHun/Lecture_deeplearning_basic/blob/main/1_LinearRegression.ipynb\" target=\"_parent\"><img src=\"https://colab.research.google.com/assets/colab-badge.svg\" alt=\"Open In Colab\"/></a>"
      ]
    },
    {
      "cell_type": "markdown",
      "metadata": {
        "id": "ge-fIn_z0ya8"
      },
      "source": [
        "# 선형 회귀 (Linear Regression)\n",
        ">**목차**\n",
        "1. 개념정리\n",
        "2. 손실함수: 평균제곱오차 (Mean Squared Error)\n",
        "3. 최적화: 경사하강법 (Gradient Descent) \n",
        "4. 실습1: 단순선형회귀분석(Simple Linear Regression Analysis)\n",
        "5. 실습2: 다중선형회귀분석(Multiple Linear Regression Analysis)\n"
      ]
    },
    {
      "cell_type": "code",
      "metadata": {
        "id": "Okp9mQZPQDEb"
      },
      "source": [
        "import numpy as np\n",
        "import matplotlib.pyplot as plt\n",
        "import tensorflow as tf\n",
        "from tensorflow.keras.models import Sequential\n",
        "from tensorflow.keras.layers import Dense\n",
        "from tensorflow.keras import optimizers"
      ],
      "execution_count": 524,
      "outputs": []
    },
    {
      "cell_type": "markdown",
      "metadata": {
        "id": "eqNDX4kBSGWq"
      },
      "source": [
        "## 1. 개념정리\n",
        "---\n",
        "\n",
        "</br>\n",
        "\n",
        "###<center> < 가설 > </center>\n",
        "###  <center>$f(x_i)=wx_i+b$</center>\n",
        "\n",
        "</br>\n",
        "\n",
        "### <center> < 목적 > </center>\n",
        "### <center>$(w^{*}, b^{*})=arg \\; min \\sum_{i=1}^m(y_i-\\hat{y}_i)^2$</center>\n",
        "### <center>$=arg \\; min \\sum_{i=1}^m(y_i-f(x_i) )^2$</center>\n",
        "### <center>$=arg \\; min \\sum_{i=1}^m(y_i-wx_i-b)^2$</center>"
      ]
    },
    {
      "cell_type": "markdown",
      "metadata": {
        "id": "GiEFDvYc3zY-"
      },
      "source": [
        "### **구현**\n"
      ]
    },
    {
      "cell_type": "code",
      "metadata": {
        "id": "sJQVWC4K309D"
      },
      "source": [
        "def hypothesis(x, w = 1, b = 0):\n",
        "  result = w * x + b\n",
        "  return result"
      ],
      "execution_count": 525,
      "outputs": []
    },
    {
      "cell_type": "markdown",
      "metadata": {
        "id": "31x3U7SB2ziD"
      },
      "source": [
        "### **예제**\n",
        "\n",
        "|공부시간|종합점수|\n",
        "|------|---|\n",
        "|1|1.1|\n",
        "|2|1.2|\n",
        "|3|2.2|\n",
        "|4|3.1|\n",
        "|5|3.7|"
      ]
    },
    {
      "cell_type": "markdown",
      "metadata": {
        "id": "F1Ir1VHqASpR"
      },
      "source": [
        "* 데이터 정의"
      ]
    },
    {
      "cell_type": "code",
      "metadata": {
        "id": "IAi3_LvS1BYj"
      },
      "source": [
        "x = np.array([1, 2, 3, 4, 5])\n",
        "y = np.array([1.1, 1.2, 2.2, 3.1, 3.7])"
      ],
      "execution_count": 526,
      "outputs": []
    },
    {
      "cell_type": "markdown",
      "metadata": {
        "id": "Z_Y4XYK7UQbg"
      },
      "source": [
        "* 예측"
      ]
    },
    {
      "cell_type": "code",
      "metadata": {
        "id": "ZwqNLf8wNSJ0"
      },
      "source": [
        ""
      ],
      "execution_count": 526,
      "outputs": []
    },
    {
      "cell_type": "code",
      "metadata": {
        "id": "k5cqHKEbUUoG",
        "colab": {
          "base_uri": "https://localhost:8080/"
        },
        "outputId": "40df8aff-c1b7-4113-8efb-5d64eb89fd36"
      },
      "source": [
        "y_pred = hypothesis(x, w = 1)\n",
        "print(y_pred)"
      ],
      "execution_count": 527,
      "outputs": [
        {
          "output_type": "stream",
          "name": "stdout",
          "text": [
            "[1 2 3 4 5]\n"
          ]
        }
      ]
    },
    {
      "cell_type": "markdown",
      "metadata": {
        "id": "yXxIMAjnAT8l"
      },
      "source": [
        "* 시각화"
      ]
    },
    {
      "cell_type": "code",
      "metadata": {
        "id": "0l7xoCQu34Xs",
        "colab": {
          "base_uri": "https://localhost:8080/",
          "height": 265
        },
        "outputId": "dd3feac3-febd-428c-dadd-faf1583e987d"
      },
      "source": [
        "plt.plot(x, y, marker='o', linestyle = '')\n",
        "plt.plot(x, y_pred, marker='o', linestyle = '--')\n",
        "plt.legend(['data', 'pred'])\n",
        "plt.show()"
      ],
      "execution_count": 528,
      "outputs": [
        {
          "output_type": "display_data",
          "data": {
            "image/png": "[encoded data removed]",
            "text/plain": [
              "<Figure size 432x288 with 1 Axes>"
            ]
          },
          "metadata": {
            "needs_background": "light"
          }
        }
      ]
    },
    {
      "cell_type": "markdown",
      "metadata": {
        "id": "erPNtIsT00ns"
      },
      "source": [
        "## 2. 손실함수: 평균제곱오차 (Mean Squred Error)\n",
        "---\n",
        "\n",
        "</br>\n",
        "\n",
        "### <center>$ MSE = \\sum_{i=1}^m(y_i-\\hat{y}_i)^2$</center>\n",
        "\n",
        "### <center>$=\\sum_{i=1}^m(y_i-wx_i-b)^2$"
      ]
    },
    {
      "cell_type": "markdown",
      "metadata": {
        "id": "sr4Ipnzp32yj"
      },
      "source": [
        "### **구현**"
      ]
    },
    {
      "cell_type": "code",
      "metadata": {
        "id": "UNjam_3p78U8"
      },
      "source": [
        "def MSE(y, y_pred):\n",
        "  l = 0\n",
        "  for yi, yi_hat in zip(y, y_pred):\n",
        "    l += (yi - yi_hat)**2\n",
        "  return l\n",
        "\n",
        "# def MSE(y, y_hat):\n",
        "#   return sum([(yi - yi_pred)**2 for yi, yi_pred in zip(y, y_pred)])\n"
      ],
      "execution_count": 529,
      "outputs": []
    },
    {
      "cell_type": "markdown",
      "metadata": {
        "id": "v6VSVcwR4KoL"
      },
      "source": [
        "* 계산"
      ]
    },
    {
      "cell_type": "code",
      "metadata": {
        "id": "JMbisZFe4MbT",
        "colab": {
          "base_uri": "https://localhost:8080/"
        },
        "outputId": "d65c660f-cd33-4598-f2e4-ce7a4ac27e35"
      },
      "source": [
        "error = MSE(y, y_pred)\n",
        "print(error)"
      ],
      "execution_count": 530,
      "outputs": [
        {
          "output_type": "stream",
          "name": "stdout",
          "text": [
            "3.789999999999999\n"
          ]
        }
      ]
    },
    {
      "cell_type": "markdown",
      "metadata": {
        "id": "TfHqzAZgA6Lm"
      },
      "source": [
        "### **Error 시각화**"
      ]
    },
    {
      "cell_type": "markdown",
      "metadata": {
        "id": "MkfmKu2M9tDT"
      },
      "source": [
        "*  W 값에 따른 Error 값 변화"
      ]
    },
    {
      "cell_type": "code",
      "metadata": {
        "id": "0Vt71w435LKz",
        "colab": {
          "base_uri": "https://localhost:8080/",
          "height": 265
        },
        "outputId": "be606285-705f-4a63-bcb3-e8b29cf58765"
      },
      "source": [
        "w_array = np.arange(0.1, 1.5, 0.1)\n",
        "\n",
        "for w in w_array:\n",
        "  y_pred = hypothesis(x, w)\n",
        "  error = MSE(y, y_pred)\n",
        "  plt.plot(w, error, marker = 'o')\n",
        "\n",
        "plt.show()"
      ],
      "execution_count": 531,
      "outputs": [
        {
          "output_type": "display_data",
          "data": {
            "image/png": "[encoded data removed]",
            "text/plain": [
              "<Figure size 432x288 with 1 Axes>"
            ]
          },
          "metadata": {
            "needs_background": "light"
          }
        }
      ]
    },
    {
      "cell_type": "markdown",
      "metadata": {
        "id": "6hQg2-P342I7"
      },
      "source": [
        "## 3. 최적화: 경사하강법 ( Gradient Desent )\n",
        "---\n",
        "</br>\n",
        "\n",
        "## <center>$w^* =  w-\\alpha\\frac{\\theta }{\\theta w}Cost(w) $</center>\n",
        "\n",
        "\n",
        "<center> 기울기가 음수일 때: $\\frac{\\theta }{\\theta w}Cost(w) < 0 \\rightarrow w* = w+\\alpha*(기울기)$</center>\n",
        "<center>기울기가 음수이면 $w$는 지금보다 큰 값으로 업데이트</center>\n",
        "\n",
        "</br>\n",
        "\n",
        "<center> 기울기가 양수일 때: $\\frac{\\theta }{\\theta w}Cost(w) > 0 \\rightarrow w* = w-\\alpha*(기울기)$</center>\n",
        "<center>기울기가 양수이면 $w$는 지금보다 작은 값으로 업데이트</center>\n"
      ]
    },
    {
      "cell_type": "markdown",
      "metadata": {
        "id": "QwPBoC5ARgxz"
      },
      "source": [
        "### **구현**"
      ]
    },
    {
      "cell_type": "code",
      "metadata": {
        "id": "cD7RIUsR962D"
      },
      "source": [
        "def diff(xi, yi, w):\n",
        "  return 2*(xi**2)*w-2*xi*yi\n",
        "  pass\n",
        "\n",
        "def GD(xi, yi, w, alpha = 0.01):\n",
        "  return w - (alpha * diff(xi, yi, w))\n",
        "  pass\n"
      ],
      "execution_count": 532,
      "outputs": []
    },
    {
      "cell_type": "markdown",
      "metadata": {
        "id": "U8X8G3JQRmVD"
      },
      "source": [
        "### **학습**"
      ]
    },
    {
      "cell_type": "code",
      "metadata": {
        "id": "E3j81ZxfBPiz",
        "colab": {
          "base_uri": "https://localhost:8080/"
        },
        "outputId": "323d2d7c-6b46-4c35-e4ba-6d85544dc339"
      },
      "source": [
        "xi = x[0]\n",
        "yi = y[0]\n",
        "w = 1\n",
        "print(w)\n",
        "\n",
        "for xi, yi in zip(x, y):\n",
        "  w_new = GD(xi, yi, w)\n",
        "  print(w_new)"
      ],
      "execution_count": 533,
      "outputs": [
        {
          "output_type": "stream",
          "name": "stdout",
          "text": [
            "1\n",
            "1.002\n",
            "0.968\n",
            "0.952\n",
            "0.928\n",
            "0.87\n"
          ]
        }
      ]
    },
    {
      "cell_type": "markdown",
      "metadata": {
        "id": "pF7yqCsrcqI0"
      },
      "source": [
        "### **파라미터**: $\\alpha$ 값에 따른 W 변화"
      ]
    },
    {
      "cell_type": "code",
      "metadata": {
        "id": "fdn15PclcqI3",
        "colab": {
          "base_uri": "https://localhost:8080/"
        },
        "outputId": "60a5c857-69fb-4d3a-f4a5-0efa9efe46f9"
      },
      "source": [
        "w_new = 1\n",
        "print(w_new)\n",
        "\n",
        "for xi, yi in zip(x, y):\n",
        "  w_new = GD(xi, yi, w_new, alpha=0.001)\n",
        "  print(w_new)"
      ],
      "execution_count": 534,
      "outputs": [
        {
          "output_type": "stream",
          "name": "stdout",
          "text": [
            "1\n",
            "1.0002\n",
            "0.9969984\n",
            "0.9922524288\n",
            "0.9853003510784\n",
            "0.97303533352448\n"
          ]
        }
      ]
    },
    {
      "cell_type": "markdown",
      "metadata": {
        "id": "jfYkZYmwO5Nl"
      },
      "source": [
        "## 4. 실습1: 단순 선형 회귀 분석(Simple Linear Regression Analysis)\n",
        "---\n",
        "\n",
        "<br>\n",
        "\n",
        "###  <center>$f(x_i)=wx_i+b$</center>\n",
        "\n"
      ]
    },
    {
      "cell_type": "markdown",
      "metadata": {
        "id": "kbuD7GBOPjhO"
      },
      "source": [
        "### **데이터**\n",
        "\n",
        "|공부시간|종합점수|\n",
        "|------|---|\n",
        "|0|0|\n",
        "|1|11|\n",
        "|2|23|\n",
        "|3|30|\n",
        "|4|44|\n",
        "|5|55|\n",
        "|6|61|\n",
        "|7|73|\n",
        "|8|84|\n",
        "|9|98|\n",
        "\n"
      ]
    },
    {
      "cell_type": "markdown",
      "metadata": {
        "id": "ojv-hk3ad4CG"
      },
      "source": [
        "* 데이터 정의"
      ]
    },
    {
      "cell_type": "code",
      "metadata": {
        "id": "daPlUy3MK75a",
        "colab": {
          "base_uri": "https://localhost:8080/"
        },
        "outputId": "5f6f882c-adc8-40dd-b7de-ce6501ebb676"
      },
      "source": [
        "x = np.array([0,1,2,3,4,5,6,7,8,9])\n",
        "y = np.array([0,11,23,30,44,55,61,73,84,98])\n",
        "\n",
        "x.shape, y.shape"
      ],
      "execution_count": 535,
      "outputs": [
        {
          "output_type": "execute_result",
          "data": {
            "text/plain": [
              "((10,), (10,))"
            ]
          },
          "metadata": {},
          "execution_count": 535
        }
      ]
    },
    {
      "cell_type": "markdown",
      "metadata": {
        "id": "pUfaI0KpdY4d"
      },
      "source": [
        "* 시각화"
      ]
    },
    {
      "cell_type": "code",
      "metadata": {
        "id": "ZbzZ-1ylLLSR",
        "colab": {
          "base_uri": "https://localhost:8080/",
          "height": 283
        },
        "outputId": "7c11a389-1d70-4154-ba59-75fecf306178"
      },
      "source": [
        "plt.plot(x, y, linestyle='', marker='o')"
      ],
      "execution_count": 536,
      "outputs": [
        {
          "output_type": "execute_result",
          "data": {
            "text/plain": [
              "[<matplotlib.lines.Line2D at 0x7f6e2bc5ae10>]"
            ]
          },
          "metadata": {},
          "execution_count": 536
        },
        {
          "output_type": "display_data",
          "data": {
            "image/png": "[encoded data removed]",
            "text/plain": [
              "<Figure size 432x288 with 1 Axes>"
            ]
          },
          "metadata": {
            "needs_background": "light"
          }
        }
      ]
    },
    {
      "cell_type": "markdown",
      "metadata": {
        "id": "thbFTkkuRec4"
      },
      "source": [
        "### **모델 생성**"
      ]
    },
    {
      "cell_type": "markdown",
      "metadata": {
        "id": "T3hvm-LkeIfU"
      },
      "source": [
        "* 케라스를 이용한 모델 구현"
      ]
    },
    {
      "cell_type": "code",
      "metadata": {
        "id": "aUYRDZ6kLSqP",
        "colab": {
          "base_uri": "https://localhost:8080/"
        },
        "outputId": "ec6e6d82-8c5a-4070-f8fb-0e7100dba50a"
      },
      "source": [
        "model = Sequential()\n",
        "\n",
        "model.add(Dense(1,input_dim=1, activation='linear'))\n",
        "\n",
        "model.summary()"
      ],
      "execution_count": 537,
      "outputs": [
        {
          "output_type": "stream",
          "name": "stdout",
          "text": [
            "Model: \"sequential_25\"\n",
            "_________________________________________________________________\n",
            "Layer (type)                 Output Shape              Param #   \n",
            "=================================================================\n",
            "dense_25 (Dense)             (None, 1)                 2         \n",
            "=================================================================\n",
            "Total params: 2\n",
            "Trainable params: 2\n",
            "Non-trainable params: 0\n",
            "_________________________________________________________________\n"
          ]
        }
      ]
    },
    {
      "cell_type": "markdown",
      "metadata": {
        "id": "oWm9NLObZDMu"
      },
      "source": [
        "* 학습파라미터 확인"
      ]
    },
    {
      "cell_type": "code",
      "metadata": {
        "id": "VSQebyh5RmlB",
        "colab": {
          "base_uri": "https://localhost:8080/"
        },
        "outputId": "6d60eef0-8408-4457-feb4-79a8d2301e8b"
      },
      "source": [
        "print(model.get_weights())\n",
        "print('w:', model.get_weights()[0], 'b:', model.get_weights()[1])"
      ],
      "execution_count": 538,
      "outputs": [
        {
          "output_type": "stream",
          "name": "stdout",
          "text": [
            "[array([[-1.5640867]], dtype=float32), array([0.], dtype=float32)]\n",
            "w: [[-1.5640867]] b: [0.]\n"
          ]
        }
      ]
    },
    {
      "cell_type": "code",
      "metadata": {
        "id": "j3gRucsky51R",
        "outputId": "29718648-510b-43c3-a0aa-ea7f3502fcc4",
        "colab": {
          "base_uri": "https://localhost:8080/",
          "height": 265
        }
      },
      "source": [
        "y_pred = model.predict(x)\n",
        "\n",
        "plt.plot(x, y, linestyle='', marker='o')\n",
        "plt.plot(x, y_pred, linestyle='--', marker='')\n",
        "\n",
        "plt.show()"
      ],
      "execution_count": 539,
      "outputs": [
        {
          "output_type": "display_data",
          "data": {
            "image/png": "[encoded data removed]",
            "text/plain": [
              "<Figure size 432x288 with 1 Axes>"
            ]
          },
          "metadata": {
            "needs_background": "light"
          }
        }
      ]
    },
    {
      "cell_type": "markdown",
      "metadata": {
        "id": "7WE7NPAeZK2Y"
      },
      "source": [
        "* 학습파라미터 시각화"
      ]
    },
    {
      "cell_type": "markdown",
      "metadata": {
        "id": "eVibQb3UT9b1"
      },
      "source": [
        "### **학습**"
      ]
    },
    {
      "cell_type": "markdown",
      "metadata": {
        "id": "_xXCO5TZSqsa"
      },
      "source": [
        "* 모델 컴파일"
      ]
    },
    {
      "cell_type": "code",
      "metadata": {
        "id": "iBHMg3adRhya"
      },
      "source": [
        "model.compile(loss='mse', optimizer=optimizers.SGD(learning_rate=0.01))"
      ],
      "execution_count": 540,
      "outputs": []
    },
    {
      "cell_type": "markdown",
      "metadata": {
        "id": "IVizBMD5a4Tt"
      },
      "source": [
        "* 학습 진행"
      ]
    },
    {
      "cell_type": "code",
      "metadata": {
        "id": "gsFdfLY5Lfn3",
        "colab": {
          "base_uri": "https://localhost:8080/"
        },
        "outputId": "4e8775c6-cea0-4ceb-e5e9-d561ad5b561e"
      },
      "source": [
        "model.fit(x, y, epochs=10)"
      ],
      "execution_count": 541,
      "outputs": [
        {
          "output_type": "stream",
          "name": "stdout",
          "text": [
            "Epoch 1/10\n",
            "1/1 [==============================] - 0s 255ms/step - loss: 4239.3457\n",
            "Epoch 2/10\n",
            "1/1 [==============================] - 0s 7ms/step - loss: 735.3854\n",
            "Epoch 3/10\n",
            "1/1 [==============================] - 0s 6ms/step - loss: 130.0250\n",
            "Epoch 4/10\n",
            "1/1 [==============================] - 0s 6ms/step - loss: 25.4343\n",
            "Epoch 5/10\n",
            "1/1 [==============================] - 0s 10ms/step - loss: 7.3579\n",
            "Epoch 6/10\n",
            "1/1 [==============================] - 0s 21ms/step - loss: 4.2280\n",
            "Epoch 7/10\n",
            "1/1 [==============================] - 0s 6ms/step - loss: 3.6805\n",
            "Epoch 8/10\n",
            "1/1 [==============================] - 0s 6ms/step - loss: 3.5791\n",
            "Epoch 9/10\n",
            "1/1 [==============================] - 0s 15ms/step - loss: 3.5549\n",
            "Epoch 10/10\n",
            "1/1 [==============================] - 0s 9ms/step - loss: 3.5441\n"
          ]
        },
        {
          "output_type": "execute_result",
          "data": {
            "text/plain": [
              "<keras.callbacks.History at 0x7f6e2bc34590>"
            ]
          },
          "metadata": {},
          "execution_count": 541
        }
      ]
    },
    {
      "cell_type": "markdown",
      "metadata": {
        "id": "SRXVtPpQV_Pn"
      },
      "source": [
        "### **결과**"
      ]
    },
    {
      "cell_type": "markdown",
      "metadata": {
        "id": "-kUSqu2WaJu9"
      },
      "source": [
        "* 학습 파라미터 확인"
      ]
    },
    {
      "cell_type": "code",
      "metadata": {
        "id": "lrzjoWBUaLpD",
        "colab": {
          "base_uri": "https://localhost:8080/"
        },
        "outputId": "b21f07b4-8d9d-407a-a515-e5e1e1725fd0"
      },
      "source": [
        "print(model.get_weights())\n",
        "print('w:', model.get_weights()[0], 'b:', model.get_weights()[1])"
      ],
      "execution_count": 542,
      "outputs": [
        {
          "output_type": "stream",
          "name": "stdout",
          "text": [
            "[array([[10.338664]], dtype=float32), array([1.8055024], dtype=float32)]\n",
            "w: [[10.338664]] b: [1.8055024]\n"
          ]
        }
      ]
    },
    {
      "cell_type": "markdown",
      "metadata": {
        "id": "D78RJwroaMJx"
      },
      "source": [
        "* 시각화"
      ]
    },
    {
      "cell_type": "code",
      "metadata": {
        "id": "WYOlATsiLjaT",
        "colab": {
          "base_uri": "https://localhost:8080/",
          "height": 265
        },
        "outputId": "020a450c-86f9-4b8f-88d4-1138ed723a4b"
      },
      "source": [
        "y_pred = model.predict(x)\n",
        "\n",
        "plt.plot(x, y, linestyle='', marker='o')\n",
        "plt.plot(x, y_pred, linestyle='--', marker='')\n",
        "\n",
        "plt.show()"
      ],
      "execution_count": 543,
      "outputs": [
        {
          "output_type": "display_data",
          "data": {
            "image/png": "[encoded data removed]",
            "text/plain": [
              "<Figure size 432x288 with 1 Axes>"
            ]
          },
          "metadata": {
            "needs_background": "light"
          }
        }
      ]
    },
    {
      "cell_type": "markdown",
      "metadata": {
        "id": "9dXLnIXocgvC"
      },
      "source": [
        "* 결과예측"
      ]
    },
    {
      "cell_type": "code",
      "metadata": {
        "id": "DNAinOdLOnGD",
        "colab": {
          "base_uri": "https://localhost:8080/"
        },
        "outputId": "60c32694-c8de-46c4-a266-be90d0efebe6"
      },
      "source": [
        "x = [10, 11]\n",
        "\n",
        "model.predict(x)"
      ],
      "execution_count": 544,
      "outputs": [
        {
          "output_type": "execute_result",
          "data": {
            "text/plain": [
              "array([[105.19215],\n",
              "       [115.53081]], dtype=float32)"
            ]
          },
          "metadata": {},
          "execution_count": 544
        }
      ]
    },
    {
      "cell_type": "markdown",
      "metadata": {
        "id": "nt00IWxWO7U9"
      },
      "source": [
        "## 5. 실습2: 다중선형회귀 (Multiple Linear Regression Analysis)\n",
        "---\n",
        "<br>\n",
        "\n",
        "###  <center>$f(\\vec{x_i})=\\vec{x}_iW+b$</center>"
      ]
    },
    {
      "cell_type": "markdown",
      "metadata": {
        "id": "iLkrqq2dWo_i"
      },
      "source": [
        "### **데이터**\n",
        "|공부시간|집중도|수면시간|종합성적|\n",
        "|------|---|---|---|\n",
        "|0|1|9|0|\n",
        "|1|1|8.5|11|\n",
        "|2|2|8|23|\n",
        "|3|4|8|30|\n",
        "|4|3|7|44|\n",
        "|5|5|7.5|55|\n",
        "|6|6|7|61|\n",
        "|7|6|6|73|\n",
        "|8|7|7|84|\n",
        "|9|6|6.5|98|\n",
        "\n"
      ]
    },
    {
      "cell_type": "markdown",
      "metadata": {
        "id": "LQezSwWEfI0O"
      },
      "source": [
        "* 데이터 정의"
      ]
    },
    {
      "cell_type": "code",
      "metadata": {
        "id": "gaRXJzQ6O8G6"
      },
      "source": [
        "x = np.array([[0, 1, 9],\n",
        "              [1, 1, 8.5],\n",
        "              [2, 2, 8],\n",
        "              [3, 4, 8],\n",
        "              [4, 3, 7],\n",
        "              [5, 5, 7.5],\n",
        "              [6, 6, 7],\n",
        "              [7, 6, 6],\n",
        "              [8, 7, 7],\n",
        "              [9, 6, 6.5]])\n",
        "\n",
        "y = np.array([0, 11, 23, 30, 44, 55, 61, 73, 84, 98])"
      ],
      "execution_count": 545,
      "outputs": []
    },
    {
      "cell_type": "markdown",
      "metadata": {
        "id": "TZ45Zf3zZfS3"
      },
      "source": [
        "### **모델 생성**"
      ]
    },
    {
      "cell_type": "markdown",
      "metadata": {
        "id": "CZIXuAgbfMvL"
      },
      "source": [
        "* 케라스를 이용한 모델 생성"
      ]
    },
    {
      "cell_type": "code",
      "metadata": {
        "id": "0NLYa1GoZfS8",
        "colab": {
          "base_uri": "https://localhost:8080/"
        },
        "outputId": "a57ae9a6-1eca-4cf2-b5f1-9572ea79b975"
      },
      "source": [
        "model = Sequential()\n",
        "\n",
        "model.add(Dense(1,input_dim=3, activation='linear'))\n",
        "\n",
        "model.summary()"
      ],
      "execution_count": 546,
      "outputs": [
        {
          "output_type": "stream",
          "name": "stdout",
          "text": [
            "Model: \"sequential_26\"\n",
            "_________________________________________________________________\n",
            "Layer (type)                 Output Shape              Param #   \n",
            "=================================================================\n",
            "dense_26 (Dense)             (None, 1)                 4         \n",
            "=================================================================\n",
            "Total params: 4\n",
            "Trainable params: 4\n",
            "Non-trainable params: 0\n",
            "_________________________________________________________________\n"
          ]
        }
      ]
    },
    {
      "cell_type": "markdown",
      "metadata": {
        "id": "wtqZLW2cZfS9"
      },
      "source": [
        "* 학습 파라미터 확인"
      ]
    },
    {
      "cell_type": "code",
      "metadata": {
        "id": "q4uHq2pjZfS9",
        "colab": {
          "base_uri": "https://localhost:8080/"
        },
        "outputId": "fb129ecc-e228-47cf-ea10-25b46fb0dcdc"
      },
      "source": [
        "print(model.get_weights())\n",
        "print('w:', model.get_weights()[0], 'b:', model.get_weights()[1])"
      ],
      "execution_count": 547,
      "outputs": [
        {
          "output_type": "stream",
          "name": "stdout",
          "text": [
            "[array([[-1.0046616 ],\n",
            "       [ 1.0784129 ],\n",
            "       [-0.41425294]], dtype=float32), array([0.], dtype=float32)]\n",
            "w: [[-1.0046616 ]\n",
            " [ 1.0784129 ]\n",
            " [-0.41425294]] b: [0.]\n"
          ]
        }
      ]
    },
    {
      "cell_type": "markdown",
      "metadata": {
        "id": "ewHWcIt7ZfS-"
      },
      "source": [
        "### **학습**"
      ]
    },
    {
      "cell_type": "markdown",
      "metadata": {
        "id": "ahSAMANCfc-Z"
      },
      "source": [
        "* 모델 컴파일"
      ]
    },
    {
      "cell_type": "code",
      "metadata": {
        "id": "EZqkM15lZfS_"
      },
      "source": [
        "model.compile(loss='mse', optimizer=optimizers.SGD(learning_rate=0.01))"
      ],
      "execution_count": 548,
      "outputs": []
    },
    {
      "cell_type": "markdown",
      "metadata": {
        "id": "fVCQvRZyfc-t"
      },
      "source": [
        "* 학습 진행"
      ]
    },
    {
      "cell_type": "code",
      "metadata": {
        "id": "c70KTBf1ZfTA",
        "colab": {
          "base_uri": "https://localhost:8080/"
        },
        "outputId": "a508e3ff-8e9f-45e0-eeb7-48eb201b6a20"
      },
      "source": [
        "model.fit(x, y, epochs=10)"
      ],
      "execution_count": 549,
      "outputs": [
        {
          "output_type": "stream",
          "name": "stdout",
          "text": [
            "Epoch 1/10\n",
            "1/1 [==============================] - 0s 287ms/step - loss: 3564.2981\n",
            "Epoch 2/10\n",
            "1/1 [==============================] - 0s 5ms/step - loss: 2991.4387\n",
            "Epoch 3/10\n",
            "1/1 [==============================] - 0s 7ms/step - loss: 2532.1018\n",
            "Epoch 4/10\n",
            "1/1 [==============================] - 0s 7ms/step - loss: 2157.5129\n",
            "Epoch 5/10\n",
            "1/1 [==============================] - 0s 8ms/step - loss: 1847.7383\n",
            "Epoch 6/10\n",
            "1/1 [==============================] - 0s 6ms/step - loss: 1588.6711\n",
            "Epoch 7/10\n",
            "1/1 [==============================] - 0s 6ms/step - loss: 1370.0901\n",
            "Epoch 8/10\n",
            "1/1 [==============================] - 0s 6ms/step - loss: 1184.4067\n",
            "Epoch 9/10\n",
            "1/1 [==============================] - 0s 5ms/step - loss: 1025.8474\n",
            "Epoch 10/10\n",
            "1/1 [==============================] - 0s 5ms/step - loss: 889.9170\n"
          ]
        },
        {
          "output_type": "execute_result",
          "data": {
            "text/plain": [
              "<keras.callbacks.History at 0x7f6e2ba6da90>"
            ]
          },
          "metadata": {},
          "execution_count": 549
        }
      ]
    },
    {
      "cell_type": "markdown",
      "metadata": {
        "id": "mAc14-qWfDDV"
      },
      "source": [
        "### **결과**"
      ]
    },
    {
      "cell_type": "markdown",
      "metadata": {
        "id": "ZmCT32fefDDW"
      },
      "source": [
        "* 학습 파라미터 확인"
      ]
    },
    {
      "cell_type": "code",
      "metadata": {
        "id": "-b5GFbL8fDDW",
        "colab": {
          "base_uri": "https://localhost:8080/"
        },
        "outputId": "3dd41f66-4a6e-42c5-ec37-b6d2fd89456d"
      },
      "source": [
        "print(model.get_weights())\n",
        "print('w:', model.get_weights()[0], 'b:', model.get_weights()[1])"
      ],
      "execution_count": 550,
      "outputs": [
        {
          "output_type": "stream",
          "name": "stdout",
          "text": [
            "[array([[ 4.470912 ],\n",
            "       [ 4.2312503],\n",
            "       [-2.1470296]], dtype=float32), array([-0.01786539], dtype=float32)]\n",
            "w: [[ 4.470912 ]\n",
            " [ 4.2312503]\n",
            " [-2.1470296]] b: [-0.01786539]\n"
          ]
        }
      ]
    },
    {
      "cell_type": "markdown",
      "metadata": {
        "id": "LFSBLKgyfDDX"
      },
      "source": [
        "* 결과 예측"
      ]
    },
    {
      "cell_type": "code",
      "metadata": {
        "id": "D0yOWDosfDDX",
        "colab": {
          "base_uri": "https://localhost:8080/"
        },
        "outputId": "501f9f4a-8fd7-45a6-ed7c-3048e7084022"
      },
      "source": [
        "x = [[5, 4, 6]]\n",
        "\n",
        "print(model.predict(x))"
      ],
      "execution_count": 551,
      "outputs": [
        {
          "output_type": "stream",
          "name": "stdout",
          "text": [
            "[[26.37952]]\n"
          ]
        }
      ]
    }
  ]
}