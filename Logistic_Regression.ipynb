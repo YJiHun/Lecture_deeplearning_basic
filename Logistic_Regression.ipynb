{
  "nbformat": 4,
  "nbformat_minor": 0,
  "metadata": {
    "colab": {
      "name": "Logistic Regression.ipynb",
      "provenance": [],
      "collapsed_sections": [],
      "authorship_tag": "ABX9TyOXG6RXiyvVQR++2aAvR2MF",
      "include_colab_link": true
    },
    "kernelspec": {
      "name": "python3",
      "display_name": "Python 3"
    },
    "language_info": {
      "name": "python"
    }
  },
  "cells": [
    {
      "cell_type": "markdown",
      "metadata": {
        "id": "view-in-github",
        "colab_type": "text"
      },
      "source": [
        "<a href=\"https://colab.research.google.com/github/yebiny/Lecture_deeplearning_basic/blob/main/Logistic_Regression.ipynb\" target=\"_parent\"><img src=\"https://colab.research.google.com/assets/colab-badge.svg\" alt=\"Open In Colab\"/></a>"
      ]
    },
    {
      "cell_type": "markdown",
      "metadata": {
        "id": "MhaiH8f2hSHN"
      },
      "source": [
        "# Logistic Regression\n",
        "* 앞서 선형 회귀 챕터에서 공부 시간과 성적간의 관계를 직선으로 표현한다는 가설 하에 주어진 데이터로부터 가중치를 찾아 이진분류입니다. \n",
        "\n"
      ]
    },
    {
      "cell_type": "code",
      "metadata": {
        "id": "2VW4g5_Ogrng"
      },
      "source": [
        "import numpy as np\n",
        "import matplotlib.pyplot as plt\n",
        "from tensorflow.keras.models import Sequential\n",
        "from tensorflow.keras.layers import Dense\n",
        "from tensorflow.keras import optimizers"
      ],
      "execution_count": null,
      "outputs": []
    },
    {
      "cell_type": "markdown",
      "metadata": {
        "id": "Xspd1KqyT9ab"
      },
      "source": [
        "## 1. 개념정리\n",
        "---"
      ]
    },
    {
      "cell_type": "code",
      "metadata": {
        "id": "CT2Fh-TZUI0K"
      },
      "source": [
        ""
      ],
      "execution_count": null,
      "outputs": []
    },
    {
      "cell_type": "markdown",
      "metadata": {
        "id": "wJvI8FdoNwM6"
      },
      "source": [
        "## 2. Sigmoid funtion\n",
        "----\n",
        "\n",
        "## <center>$H(x) = \\frac{1}{1+e^{(-x)}} = \\sigma(x)$</center>\n",
        "\n",
        "* 시그모이드 함수는 입력값이 커지면 1에 수렴하고, 입력값이 작아지면 0에 수렴합니다. 0부터 1까지의 값을 가지는데 출력값이 0.5 이상이면 1(True), 0.5이하면 0(False)로 만들면 이진 분류 문제로 사용할 수 있습니다.\n",
        "\n",
        "\n",
        "\n",
        "<center> e(e=2.718281..): 자연 상수"
      ]
    },
    {
      "cell_type": "code",
      "metadata": {
        "id": "uftBiONpUI8g"
      },
      "source": [
        ""
      ],
      "execution_count": null,
      "outputs": []
    },
    {
      "cell_type": "markdown",
      "metadata": {
        "id": "yVrRMqlSxD2L"
      },
      "source": [
        "* 시그모이드 함수 구현"
      ]
    },
    {
      "cell_type": "code",
      "metadata": {
        "id": "l6vzKZkrNX5O"
      },
      "source": [
        "def sigmoid(x):\n",
        "    return 1/(1+np.exp(-x))"
      ],
      "execution_count": null,
      "outputs": []
    },
    {
      "cell_type": "markdown",
      "metadata": {
        "id": "2I7iMYsDxGaD"
      },
      "source": [
        "* 함수 그리기"
      ]
    },
    {
      "cell_type": "code",
      "metadata": {
        "colab": {
          "base_uri": "https://localhost:8080/",
          "height": 281
        },
        "id": "j1-b20ttOJkW",
        "outputId": "1499a78c-eefc-4c01-c546-100162f97cd3"
      },
      "source": [
        "x = np.arange(-5, 5, 0.1)\n",
        "y = sigmoid(x)\n",
        "\n",
        "plt.title('Sigmoid Funtion')\n",
        "plt.plot(x, y)\n",
        "plt.plot([0,0], [1,0], linestyle='--')\n",
        "plt.show()"
      ],
      "execution_count": null,
      "outputs": [
        {
          "output_type": "display_data",
          "data": {
            "image/png": "[encoded data removed]",
            "text/plain": [
              "<Figure size 432x288 with 1 Axes>"
            ]
          },
          "metadata": {
            "needs_background": "light"
          }
        }
      ]
    },
    {
      "cell_type": "markdown",
      "metadata": {
        "id": "KLLjZVusxLKz"
      },
      "source": [
        "* W 변화에 따른 시그모이드 함수"
      ]
    },
    {
      "cell_type": "code",
      "metadata": {
        "colab": {
          "base_uri": "https://localhost:8080/",
          "height": 281
        },
        "id": "JKLMraWYOUuV",
        "outputId": "f2e77e98-5459-4ecb-a7fa-ca3b3c02ac5c"
      },
      "source": [
        "W_list = [0.5, 1, 2]\n",
        "color_list = ['r','g','b']\n",
        "\n",
        "plt.title(\"Sigmoid funtion with W\")\n",
        "for W , color in zip(W_list, color_list):\n",
        "  x = np.arange(-5, 5, 0.1)\n",
        "  z = W*x\n",
        "  y = sigmoid(z)\n",
        "  plt.plot(x, y, 'r', linestyle='--', color=color)\n",
        "plt.legend(W_list)\n",
        "plt.show()"
      ],
      "execution_count": null,
      "outputs": [
        {
          "output_type": "display_data",
          "data": {
            "image/png": "[encoded data removed]",
            "text/plain": [
              "<Figure size 432x288 with 1 Axes>"
            ]
          },
          "metadata": {
            "needs_background": "light"
          }
        }
      ]
    },
    {
      "cell_type": "markdown",
      "metadata": {
        "id": "EkTSQTbTxNwj"
      },
      "source": [
        "* b 변화에 따른 시그모이드 함수"
      ]
    },
    {
      "cell_type": "code",
      "metadata": {
        "id": "nE5H5bXbO-DK",
        "colab": {
          "base_uri": "https://localhost:8080/",
          "height": 281
        },
        "outputId": "3dd01949-b97d-4a21-ce69-c3ce99547d21"
      },
      "source": [
        "b_list = [0.5, 1, 2]\n",
        "color_list = ['r','g','b']\n",
        "\n",
        "plt.title(\"Sigmoid funtion with b\")\n",
        "for b , color in zip(b_list, color_list):\n",
        "  x = np.arange(-5, 5, 0.1)\n",
        "  z = x+b\n",
        "  y = sigmoid(z)\n",
        "  plt.plot(x, y, 'r', linestyle='--', color=color)\n",
        "plt.legend(b_list)\n",
        "plt.show()"
      ],
      "execution_count": null,
      "outputs": [
        {
          "output_type": "display_data",
          "data": {
            "image/png": "[encoded data removed]",
            "text/plain": [
              "<Figure size 432x288 with 1 Axes>"
            ]
          },
          "metadata": {
            "needs_background": "light"
          }
        }
      ]
    },
    {
      "cell_type": "markdown",
      "metadata": {
        "id": "OhHRBWI4p2ZV"
      },
      "source": [
        "## 3. Cross Entropy\n",
        "---\n",
        "\n",
        "\n",
        "## <center>$J(W) = -\\frac{1}{n}\\sum_{i=1}^{n}[y^{(i)}log(\\hat{y}^{(i)})+(1-y^{(i)})log(1-\\hat{y}^{(i)})]$</center>\n",
        "\n",
        "\n",
        "<center> $y = 1 \\rightarrow cost(y, \\hat{y}) = -log(\\hat{y})$</center>\n",
        "<center> $y = 0 \\rightarrow cost(y, \\hat{y}) = -log(1-\\hat{y})$</center>\n"
      ]
    },
    {
      "cell_type": "code",
      "metadata": {
        "id": "5z7FDrN_pLfa"
      },
      "source": [
        "def J_yis1(y_pred):\n",
        "  return -(np.log10(y_pred))\n",
        "\n",
        "def J_yis0(y_pred):\n",
        "  return -(np.log10(1-y_pred))"
      ],
      "execution_count": null,
      "outputs": []
    },
    {
      "cell_type": "code",
      "metadata": {
        "colab": {
          "base_uri": "https://localhost:8080/",
          "height": 265
        },
        "id": "BUYYMkh4rRn7",
        "outputId": "e5a5c8c0-9552-4b1e-d86e-b7b34f27f357"
      },
      "source": [
        "y_pred_range = np.arange(0.1,1,0.1)\n",
        "for y_pred in y_pred_range:\n",
        "  j = J_yis1(y_pred)\n",
        "  plt.plot(y_pred, j, marker='o', color='b')\n",
        "  \n",
        "  j = J_yis0(y_pred)\n",
        "  plt.plot(y_pred, j, marker='o', color='r')\n",
        "\n",
        "  plt.legend([\"y=1\", \"y=0\"])"
      ],
      "execution_count": null,
      "outputs": [
        {
          "output_type": "display_data",
          "data": {
            "image/png": "[encoded data removed]",
            "text/plain": [
              "<Figure size 432x288 with 1 Axes>"
            ]
          },
          "metadata": {
            "needs_background": "light"
          }
        }
      ]
    },
    {
      "cell_type": "markdown",
      "metadata": {
        "id": "dcvlzGY7w7_N"
      },
      "source": [
        "\n",
        "## 4, 실습\n",
        "---"
      ]
    },
    {
      "cell_type": "markdown",
      "metadata": {
        "id": "lERyWr69x0hT"
      },
      "source": [
        "### 데이터\n",
        "|공부시간|집중도|수면시간|종합성적|합격여부|\n",
        "|------|---|---|---|---|\n",
        "|0|1|9|0|불합격|\n",
        "|1|1|8.5|11|불합격|\n",
        "|2|2|8|23|불합격|\n",
        "|3|4|8|30|불합격|\n",
        "|4|3|7|44|불합격|\n",
        "|5|5|7.5|55|합격|\n",
        "|6|6|7|61|합격|\n",
        "|7|6|6|73|합격|\n",
        "|8|7|7|84|합격|\n",
        "|9|6|6.5|98|합격|"
      ]
    },
    {
      "cell_type": "code",
      "metadata": {
        "id": "O8Azp_7AhYc3"
      },
      "source": [
        "x = [[0,1,9],\n",
        "      [1,1,8.5],\n",
        "      [2,2,8],\n",
        "      [3,4,8],\n",
        "      [4,3,7],\n",
        "      [5,5,7.5],\n",
        "      [6,6,7],\n",
        "      [7,6,6],\n",
        "      [8,7,7],\n",
        "      [9,6,6.5 ]\n",
        "     ]\n",
        "y = [0,0,0,0,0,1,1,1,1,1]"
      ],
      "execution_count": null,
      "outputs": []
    },
    {
      "cell_type": "markdown",
      "metadata": {
        "id": "vKgnvyq0NIio"
      },
      "source": [
        "* "
      ]
    },
    {
      "cell_type": "code",
      "metadata": {
        "colab": {
          "base_uri": "https://localhost:8080/",
          "height": 265
        },
        "id": "XE61QbZViBcv",
        "outputId": "c611e4f4-e855-42f3-d282-5b33a94d20fa"
      },
      "source": [
        "plt.plot(y, marker='o')\n",
        "plt.show()"
      ],
      "execution_count": null,
      "outputs": [
        {
          "output_type": "display_data",
          "data": {
            "image/png": "[encoded data removed]",
            "text/plain": [
              "<Figure size 432x288 with 1 Axes>"
            ]
          },
          "metadata": {
            "needs_background": "light"
          }
        }
      ]
    },
    {
      "cell_type": "markdown",
      "metadata": {
        "id": "sjzd0-TyxwDM"
      },
      "source": [
        "####  모델 생성"
      ]
    },
    {
      "cell_type": "code",
      "metadata": {
        "id": "_U2vEe_sN-Hd"
      },
      "source": [
        "model = Sequential()\n",
        "model.add(Dense(1, input_dim=3, activation='sigmoid'))"
      ],
      "execution_count": null,
      "outputs": []
    },
    {
      "cell_type": "code",
      "metadata": {
        "id": "UVfoXq_3N-FL",
        "colab": {
          "base_uri": "https://localhost:8080/"
        },
        "outputId": "79582f6c-1352-4dd2-814e-50e3ea09e931"
      },
      "source": [
        "model.summary()"
      ],
      "execution_count": null,
      "outputs": [
        {
          "output_type": "stream",
          "name": "stdout",
          "text": [
            "Model: \"sequential_2\"\n",
            "_________________________________________________________________\n",
            "Layer (type)                 Output Shape              Param #   \n",
            "=================================================================\n",
            "dense_2 (Dense)              (None, 1)                 4         \n",
            "=================================================================\n",
            "Total params: 4\n",
            "Trainable params: 4\n",
            "Non-trainable params: 0\n",
            "_________________________________________________________________\n"
          ]
        }
      ]
    },
    {
      "cell_type": "markdown",
      "metadata": {
        "id": "OBKpPVHFyTsb"
      },
      "source": [
        "* 학습 파라미터 확인"
      ]
    },
    {
      "cell_type": "code",
      "metadata": {
        "colab": {
          "base_uri": "https://localhost:8080/"
        },
        "id": "9hHOMXhkyPXa",
        "outputId": "35870321-1440-4a9c-80d3-ceb66f5209d3"
      },
      "source": [
        "print(model.get_weights())\n",
        "W = model.get_weights()[0]\n",
        "b = model.get_weights()[1]\n",
        "print(\"W:\",W, \"b:\", b)"
      ],
      "execution_count": null,
      "outputs": [
        {
          "output_type": "stream",
          "name": "stdout",
          "text": [
            "[array([[-0.36023462],\n",
            "       [-0.8481941 ],\n",
            "       [ 1.1291    ]], dtype=float32), array([0.], dtype=float32)]\n",
            "W: [[-0.36023462]\n",
            " [-0.8481941 ]\n",
            " [ 1.1291    ]] b: [0.]\n"
          ]
        }
      ]
    },
    {
      "cell_type": "code",
      "metadata": {
        "colab": {
          "base_uri": "https://localhost:8080/",
          "height": 301
        },
        "id": "vKTNcPF3zaPk",
        "outputId": "bfffb414-3c84-43ed-e0a2-7fb637ddc398"
      },
      "source": [
        "plt.plot(np.array(x)[:,0], model.predict(x), 'b', np.array(x)[:,0],y, 'k.')"
      ],
      "execution_count": null,
      "outputs": [
        {
          "output_type": "execute_result",
          "data": {
            "text/plain": [
              "[<matplotlib.lines.Line2D at 0x7ffa0fefc510>,\n",
              " <matplotlib.lines.Line2D at 0x7ffa0fefc710>]"
            ]
          },
          "metadata": {},
          "execution_count": 99
        },
        {
          "output_type": "display_data",
          "data": {
            "image/png": "[encoded data removed]",
            "text/plain": [
              "<Figure size 432x288 with 1 Axes>"
            ]
          },
          "metadata": {
            "needs_background": "light"
          }
        }
      ]
    },
    {
      "cell_type": "markdown",
      "metadata": {
        "id": "GpvKk6lsymbd"
      },
      "source": [
        "#### 학습"
      ]
    },
    {
      "cell_type": "code",
      "metadata": {
        "colab": {
          "base_uri": "https://localhost:8080/"
        },
        "id": "j6zS1DtnyTOT",
        "outputId": "431231b3-ad6c-4312-8065-e31e50ea9a48"
      },
      "source": [
        "model.compile(optimizer = optimizers.SGD(lr=0.01),\n",
        "              loss = 'binary_crossentropy',\n",
        "              metrics=['acc']\n",
        "              )"
      ],
      "execution_count": null,
      "outputs": [
        {
          "output_type": "stream",
          "name": "stderr",
          "text": [
            "/usr/local/lib/python3.7/dist-packages/keras/optimizer_v2/optimizer_v2.py:356: UserWarning: The `lr` argument is deprecated, use `learning_rate` instead.\n",
            "  \"The `lr` argument is deprecated, use `learning_rate` instead.\")\n"
          ]
        }
      ]
    },
    {
      "cell_type": "code",
      "metadata": {
        "id": "JSW0c3Lzypip"
      },
      "source": [
        "model.fit(x, y, epochs=300)"
      ],
      "execution_count": null,
      "outputs": []
    },
    {
      "cell_type": "code",
      "metadata": {
        "colab": {
          "base_uri": "https://localhost:8080/",
          "height": 301
        },
        "id": "9Yg-3ct7yqo5",
        "outputId": "7f9d7572-d528-4373-c6fc-824c1ff79c1a"
      },
      "source": [
        "plt.plot(np.array(x)[:,0], model.predict(x), 'b', np.array(x)[:,0],y, 'k.')"
      ],
      "execution_count": null,
      "outputs": [
        {
          "output_type": "execute_result",
          "data": {
            "text/plain": [
              "[<matplotlib.lines.Line2D at 0x7ffa0ac21c10>,\n",
              " <matplotlib.lines.Line2D at 0x7ffa0ac21850>]"
            ]
          },
          "metadata": {},
          "execution_count": 102
        },
        {
          "output_type": "display_data",
          "data": {
            "image/png": "[encoded data removed]",
            "text/plain": [
              "<Figure size 432x288 with 1 Axes>"
            ]
          },
          "metadata": {
            "needs_background": "light"
          }
        }
      ]
    },
    {
      "cell_type": "code",
      "metadata": {
        "id": "X-yp4J71y37B"
      },
      "source": [
        ""
      ],
      "execution_count": null,
      "outputs": []
    }
  ]
}