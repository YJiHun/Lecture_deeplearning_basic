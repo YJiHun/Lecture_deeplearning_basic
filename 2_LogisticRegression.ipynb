{
  "nbformat": 4,
  "nbformat_minor": 0,
  "metadata": {
    "colab": {
      "name": "2_LogisticRegression.ipynb",
      "provenance": [],
      "collapsed_sections": [],
      "authorship_tag": "ABX9TyPdYl47bVJAJ6aNYZo22GaX",
      "include_colab_link": true
    },
    "kernelspec": {
      "name": "python3",
      "display_name": "Python 3"
    },
    "language_info": {
      "name": "python"
    }
  },
  "cells": [
    {
      "cell_type": "markdown",
      "metadata": {
        "id": "view-in-github",
        "colab_type": "text"
      },
      "source": [
        "<a href=\"https://colab.research.google.com/github/yebiny/Lecture_deeplearning_basic/blob/main/2_LogisticRegression.ipynb\" target=\"_parent\"><img src=\"https://colab.research.google.com/assets/colab-badge.svg\" alt=\"Open In Colab\"/></a>"
      ]
    },
    {
      "cell_type": "markdown",
      "metadata": {
        "id": "MhaiH8f2hSHN"
      },
      "source": [
        "# 로지스틱 회귀 ( Logistic Regression )\n",
        "\n",
        ">**목차**\n",
        "1. 개념정리\n",
        "2. 손실함수 : 크로스 엔트로피 (Cross Entropy)\n",
        "3. 실습\n"
      ]
    },
    {
      "cell_type": "code",
      "metadata": {
        "id": "2VW4g5_Ogrng"
      },
      "source": [
        "import numpy as np\n",
        "import matplotlib.pyplot as plt\n",
        "from tensorflow.keras.models import Sequential\n",
        "from tensorflow.keras.layers import Dense\n",
        "from tensorflow.keras import optimizers"
      ],
      "execution_count": null,
      "outputs": []
    },
    {
      "cell_type": "markdown",
      "metadata": {
        "id": "Xspd1KqyT9ab"
      },
      "source": [
        "## 1. 개념정리\n",
        "---\n",
        "\n",
        "\n",
        "<br>\n",
        "\n",
        "###<center> < 가설 > </center>\n",
        "###  <center>$f(x)=\\sigma(xW+b)$</center>\n",
        "\n",
        "<br>\n",
        "\n",
        "### <center> < 목적 > </center>\n",
        "### <center>$(w^{*}, b^{*})=arg \\; min \\;J(y, \\hat{y})$</center>\n",
        "### <center> $ =arg \\; min \\;J(y, f(x))$</center>\n",
        "### <center> $ =arg \\; min \\;J(y, \\sigma(xW+b))$</center>"
      ]
    },
    {
      "cell_type": "markdown",
      "metadata": {
        "id": "wJvI8FdoNwM6"
      },
      "source": [
        "### **시그모이드 함수 ( Sigmoid funtion )**\n",
        "\n",
        "</br>\n",
        "\n",
        "### <center>$H(x) = \\frac{1}{1+e^{(-x)}} = \\sigma(x)$</center>\n",
        "\n",
        "**<center> e(e=2.718281..):**  자연 상수"
      ]
    },
    {
      "cell_type": "markdown",
      "metadata": {
        "id": "yVrRMqlSxD2L"
      },
      "source": [
        "* 구현"
      ]
    },
    {
      "cell_type": "code",
      "metadata": {
        "id": "l6vzKZkrNX5O"
      },
      "source": [
        ""
      ],
      "execution_count": null,
      "outputs": []
    },
    {
      "cell_type": "markdown",
      "metadata": {
        "id": "I8Lpa78pmWZT"
      },
      "source": [
        "* 시각화"
      ]
    },
    {
      "cell_type": "code",
      "metadata": {
        "id": "ZE925IHilr5L"
      },
      "source": [
        ""
      ],
      "execution_count": null,
      "outputs": []
    },
    {
      "cell_type": "markdown",
      "metadata": {
        "id": "SzKxctP_YrtO"
      },
      "source": [
        "### **가설 구현**\n",
        "###<center>$f(x)=\\sigma(xW+b)$</center>"
      ]
    },
    {
      "cell_type": "code",
      "metadata": {
        "id": "itvJt9yRkZib"
      },
      "source": [
        ""
      ],
      "execution_count": null,
      "outputs": []
    },
    {
      "cell_type": "markdown",
      "metadata": {
        "id": "heC50xSfZ28d"
      },
      "source": [
        "### **예제**\n",
        "\n",
        "|라운드점수(X)|종합점수|결과(Y)\n",
        "|------|---|---|\n",
        "|-3|1|패배|\n",
        "|-2|1|패배|\n",
        "|-1|2|패배|\n",
        "|0|3|패배|\n",
        "|1|5|승리|\n",
        "|2|8|승리|\n",
        "|3|9|승리|\n"
      ]
    },
    {
      "cell_type": "markdown",
      "metadata": {
        "id": "31x3U7SB2ziD"
      },
      "source": [
        "* 데이터 정의\n",
        "\n"
      ]
    },
    {
      "cell_type": "code",
      "metadata": {
        "id": "IAi3_LvS1BYj"
      },
      "source": [
        ""
      ],
      "execution_count": null,
      "outputs": []
    },
    {
      "cell_type": "markdown",
      "metadata": {
        "id": "RVfGUYHqZqNY"
      },
      "source": [
        "* 예측"
      ]
    },
    {
      "cell_type": "code",
      "metadata": {
        "id": "jFmDoJ3JZqH2"
      },
      "source": [
        ""
      ],
      "execution_count": null,
      "outputs": []
    },
    {
      "cell_type": "markdown",
      "metadata": {
        "id": "umk0_qavR02D"
      },
      "source": [
        "* 시각화"
      ]
    },
    {
      "cell_type": "code",
      "metadata": {
        "id": "0l7xoCQu34Xs"
      },
      "source": [
        ""
      ],
      "execution_count": null,
      "outputs": []
    },
    {
      "cell_type": "markdown",
      "metadata": {
        "id": "RV3J6Y2ab_8W"
      },
      "source": [
        "### **학습 파라미터**"
      ]
    },
    {
      "cell_type": "markdown",
      "metadata": {
        "id": "KLLjZVusxLKz"
      },
      "source": [
        "* W 값에 따른 함수의 변화"
      ]
    },
    {
      "cell_type": "code",
      "metadata": {
        "id": "JKLMraWYOUuV"
      },
      "source": [
        ""
      ],
      "execution_count": null,
      "outputs": []
    },
    {
      "cell_type": "markdown",
      "metadata": {
        "id": "EkTSQTbTxNwj"
      },
      "source": [
        "* b값에 따른 함수의 변화"
      ]
    },
    {
      "cell_type": "code",
      "metadata": {
        "id": "nE5H5bXbO-DK"
      },
      "source": [
        ""
      ],
      "execution_count": null,
      "outputs": []
    },
    {
      "cell_type": "markdown",
      "metadata": {
        "id": "OhHRBWI4p2ZV"
      },
      "source": [
        "## 2. 손실함수: 크로스 엔트로피 (Cross Entropy)\n",
        "---\n",
        "\n",
        "</br>\n",
        "\n",
        "## <center>$J(W) = -\\frac{1}{n}\\sum_{i=1}^{n}[y^{(i)}log(\\hat{y}^{(i)})+(1-y^{(i)})log(1-\\hat{y}^{(i)})]$</center>\n",
        "\n",
        "</br>\n",
        "\n",
        "<center> $y = 1 \\rightarrow cost(y, \\hat{y}) = -log(\\hat{y})$</center>\n",
        "<center> $y = 0 \\rightarrow cost(y, \\hat{y}) = -log(1-\\hat{y})$</center>\n"
      ]
    },
    {
      "cell_type": "markdown",
      "metadata": {
        "id": "NbYJ77nVptoc"
      },
      "source": [
        "* 구현"
      ]
    },
    {
      "cell_type": "code",
      "metadata": {
        "id": "5z7FDrN_pLfa"
      },
      "source": [
        ""
      ],
      "execution_count": null,
      "outputs": []
    },
    {
      "cell_type": "markdown",
      "metadata": {
        "id": "s-eyWaHypvOE"
      },
      "source": [
        "* 시각화"
      ]
    },
    {
      "cell_type": "code",
      "metadata": {
        "id": "BUYYMkh4rRn7"
      },
      "source": [
        ""
      ],
      "execution_count": null,
      "outputs": []
    },
    {
      "cell_type": "markdown",
      "metadata": {
        "id": "dcvlzGY7w7_N"
      },
      "source": [
        "\n",
        "## 3. 실습\n",
        "---"
      ]
    },
    {
      "cell_type": "markdown",
      "metadata": {
        "id": "lERyWr69x0hT"
      },
      "source": [
        "### **데이터**\n",
        "|공부시간|집중도|수면시간|종합성적|합격여부|\n",
        "|------|---|---|---|---|\n",
        "|0|1|9|0|불합격|\n",
        "|1|1|8.5|11|불합격|\n",
        "|2|2|8|23|불합격|\n",
        "|3|4|8|30|불합격|\n",
        "|4|3|7|44|불합격|\n",
        "|5|5|7.5|55|합격|\n",
        "|6|6|7|61|합격|\n",
        "|7|6|6|73|합격|\n",
        "|8|7|7|84|합격|\n",
        "|9|6|6.5|98|합격|"
      ]
    },
    {
      "cell_type": "markdown",
      "metadata": {
        "id": "W05K5U6jr4hF"
      },
      "source": [
        "* 데이터 정의"
      ]
    },
    {
      "cell_type": "code",
      "metadata": {
        "id": "O8Azp_7AhYc3"
      },
      "source": [
        ""
      ],
      "execution_count": null,
      "outputs": []
    },
    {
      "cell_type": "markdown",
      "metadata": {
        "id": "vKgnvyq0NIio"
      },
      "source": [
        "* 시각화 "
      ]
    },
    {
      "cell_type": "code",
      "metadata": {
        "id": "XE61QbZViBcv"
      },
      "source": [
        ""
      ],
      "execution_count": null,
      "outputs": []
    },
    {
      "cell_type": "markdown",
      "metadata": {
        "id": "sjzd0-TyxwDM"
      },
      "source": [
        "###  **모델 생성**"
      ]
    },
    {
      "cell_type": "markdown",
      "metadata": {
        "id": "w341U_IMr_Ay"
      },
      "source": [
        "* 케라스를 이용한 모델 구현"
      ]
    },
    {
      "cell_type": "code",
      "metadata": {
        "id": "_U2vEe_sN-Hd"
      },
      "source": [
        ""
      ],
      "execution_count": null,
      "outputs": []
    },
    {
      "cell_type": "markdown",
      "metadata": {
        "id": "OBKpPVHFyTsb"
      },
      "source": [
        "* 학습 파라미터 확인"
      ]
    },
    {
      "cell_type": "code",
      "metadata": {
        "id": "9hHOMXhkyPXa"
      },
      "source": [
        ""
      ],
      "execution_count": null,
      "outputs": []
    },
    {
      "cell_type": "markdown",
      "metadata": {
        "id": "wfC7jd1tsKgr"
      },
      "source": [
        "* 시각화"
      ]
    },
    {
      "cell_type": "code",
      "metadata": {
        "id": "vKTNcPF3zaPk"
      },
      "source": [
        ""
      ],
      "execution_count": null,
      "outputs": []
    },
    {
      "cell_type": "markdown",
      "metadata": {
        "id": "GpvKk6lsymbd"
      },
      "source": [
        "### **모델 학습**"
      ]
    },
    {
      "cell_type": "markdown",
      "metadata": {
        "id": "VaLNy_3atLZ8"
      },
      "source": [
        "* 모델 컴파일"
      ]
    },
    {
      "cell_type": "code",
      "metadata": {
        "id": "j6zS1DtnyTOT"
      },
      "source": [
        ""
      ],
      "execution_count": null,
      "outputs": []
    },
    {
      "cell_type": "markdown",
      "metadata": {
        "id": "ZxywaIertNp0"
      },
      "source": [
        "* 학습 진행"
      ]
    },
    {
      "cell_type": "code",
      "metadata": {
        "id": "JSW0c3Lzypip"
      },
      "source": [
        ""
      ],
      "execution_count": null,
      "outputs": []
    },
    {
      "cell_type": "markdown",
      "metadata": {
        "id": "e0215hW8tTj0"
      },
      "source": [
        "### **결과**"
      ]
    },
    {
      "cell_type": "markdown",
      "metadata": {
        "id": "W168xYmMtVij"
      },
      "source": [
        "* 학습 파라미터 확인"
      ]
    },
    {
      "cell_type": "code",
      "metadata": {
        "id": "Aj42y5watYT7"
      },
      "source": [
        ""
      ],
      "execution_count": null,
      "outputs": []
    },
    {
      "cell_type": "markdown",
      "metadata": {
        "id": "WZP0UAgGtbXD"
      },
      "source": [
        "* 시각화"
      ]
    },
    {
      "cell_type": "code",
      "metadata": {
        "id": "pXDWEWIDtbXD"
      },
      "source": [
        ""
      ],
      "execution_count": null,
      "outputs": []
    }
  ]
}